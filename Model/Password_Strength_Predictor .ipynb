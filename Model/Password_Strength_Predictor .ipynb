{
 "cells": [
  {
   "cell_type": "markdown",
   "metadata": {
    "id": "khgctdEugXRF"
   },
   "source": [
    "# **Importing the Data Set**"
   ]
  },
  {
   "cell_type": "code",
   "execution_count": 4,
   "metadata": {
    "id": "D1wVSWZYgpbg"
   },
   "outputs": [],
   "source": [
    "import sqlite3\n",
    "import pandas as pd\n",
    "import matplotlib.pyplot as plt\n",
    "import seaborn as sns\n",
    "import numpy as np"
   ]
  },
  {
   "cell_type": "code",
   "execution_count": 5,
   "metadata": {
    "colab": {
     "base_uri": "https://localhost:8080/",
     "height": 206
    },
    "id": "_Fwc4VLcgzwA",
    "outputId": "69679b43-2125-4b88-b045-4e45674a445b"
   },
   "outputs": [
    {
     "data": {
      "text/html": [
       "<div>\n",
       "<style scoped>\n",
       "    .dataframe tbody tr th:only-of-type {\n",
       "        vertical-align: middle;\n",
       "    }\n",
       "\n",
       "    .dataframe tbody tr th {\n",
       "        vertical-align: top;\n",
       "    }\n",
       "\n",
       "    .dataframe thead th {\n",
       "        text-align: right;\n",
       "    }\n",
       "</style>\n",
       "<table border=\"1\" class=\"dataframe\">\n",
       "  <thead>\n",
       "    <tr style=\"text-align: right;\">\n",
       "      <th></th>\n",
       "      <th>index</th>\n",
       "      <th>password</th>\n",
       "      <th>strength</th>\n",
       "    </tr>\n",
       "  </thead>\n",
       "  <tbody>\n",
       "    <tr>\n",
       "      <th>0</th>\n",
       "      <td>0</td>\n",
       "      <td>zxe870819</td>\n",
       "      <td>1</td>\n",
       "    </tr>\n",
       "    <tr>\n",
       "      <th>1</th>\n",
       "      <td>1</td>\n",
       "      <td>xw46454nr23l</td>\n",
       "      <td>1</td>\n",
       "    </tr>\n",
       "    <tr>\n",
       "      <th>2</th>\n",
       "      <td>2</td>\n",
       "      <td>soporte13</td>\n",
       "      <td>1</td>\n",
       "    </tr>\n",
       "    <tr>\n",
       "      <th>3</th>\n",
       "      <td>3</td>\n",
       "      <td>accounts6000webhost.com</td>\n",
       "      <td>2</td>\n",
       "    </tr>\n",
       "    <tr>\n",
       "      <th>4</th>\n",
       "      <td>4</td>\n",
       "      <td>c443balg</td>\n",
       "      <td>1</td>\n",
       "    </tr>\n",
       "  </tbody>\n",
       "</table>\n",
       "</div>"
      ],
      "text/plain": [
       "   index                 password  strength\n",
       "0      0                zxe870819         1\n",
       "1      1             xw46454nr23l         1\n",
       "2      2                soporte13         1\n",
       "3      3  accounts6000webhost.com         2\n",
       "4      4                 c443balg         1"
      ]
     },
     "execution_count": 5,
     "metadata": {},
     "output_type": "execute_result"
    }
   ],
   "source": [
    "conn = sqlite3.connect(\"password_data.sqlite\")\n",
    "\n",
    "df = pd.read_sql_query(\"SELECT * FROM Users\", conn)\n",
    "\n",
    "df.head()"
   ]
  },
  {
   "cell_type": "code",
   "execution_count": 6,
   "metadata": {
    "colab": {
     "base_uri": "https://localhost:8080/"
    },
    "id": "olynAywWj1vE",
    "outputId": "f3383926-873d-456e-cf23-968978ae452c"
   },
   "outputs": [
    {
     "data": {
      "text/plain": [
       "array([1, 2, 0], dtype=int64)"
      ]
     },
     "execution_count": 6,
     "metadata": {},
     "output_type": "execute_result"
    }
   ],
   "source": [
    "df[\"strength\"].unique()"
   ]
  },
  {
   "cell_type": "code",
   "execution_count": 7,
   "metadata": {
    "colab": {
     "base_uri": "https://localhost:8080/"
    },
    "id": "29V8wBsnkz66",
    "outputId": "e4044c75-4194-420b-991f-903e230e5f14"
   },
   "outputs": [
    {
     "data": {
      "text/plain": [
       "(100000, 3)"
      ]
     },
     "execution_count": 7,
     "metadata": {},
     "output_type": "execute_result"
    }
   ],
   "source": [
    "df.shape"
   ]
  },
  {
   "cell_type": "markdown",
   "metadata": {
    "id": "loQUDqwglVgO"
   },
   "source": [
    "# **Data Cleaning**"
   ]
  },
  {
   "cell_type": "code",
   "execution_count": 8,
   "metadata": {
    "id": "ipupn0FbxJTK"
   },
   "outputs": [],
   "source": [
    "df.drop([\"index\"] , axis=1 , inplace=True)"
   ]
  },
  {
   "cell_type": "code",
   "execution_count": 9,
   "metadata": {
    "colab": {
     "base_uri": "https://localhost:8080/"
    },
    "id": "nRuLnwKxlhsg",
    "outputId": "2b6c7830-10d6-4dc4-fbbe-bfe82c8a901d"
   },
   "outputs": [
    {
     "data": {
      "text/plain": [
       "Index(['password', 'strength'], dtype='object')"
      ]
     },
     "execution_count": 9,
     "metadata": {},
     "output_type": "execute_result"
    }
   ],
   "source": [
    "df.columns\n"
   ]
  },
  {
   "cell_type": "code",
   "execution_count": 10,
   "metadata": {
    "colab": {
     "base_uri": "https://localhost:8080/"
    },
    "id": "z6KsRKz3lyf1",
    "outputId": "a8a09399-e793-4fb1-9cd5-b437d3193425"
   },
   "outputs": [
    {
     "data": {
      "text/plain": [
       "0"
      ]
     },
     "execution_count": 10,
     "metadata": {},
     "output_type": "execute_result"
    }
   ],
   "source": [
    "df.duplicated().sum()"
   ]
  },
  {
   "cell_type": "code",
   "execution_count": 11,
   "metadata": {
    "colab": {
     "base_uri": "https://localhost:8080/",
     "height": 147
    },
    "id": "SXe0qSlzrngB",
    "outputId": "49fb0f93-2ec8-4c80-ba04-776afea8b991"
   },
   "outputs": [
    {
     "data": {
      "text/plain": [
       "password    False\n",
       "strength    False\n",
       "dtype: bool"
      ]
     },
     "execution_count": 11,
     "metadata": {},
     "output_type": "execute_result"
    }
   ],
   "source": [
    "df.isnull().any()"
   ]
  },
  {
   "cell_type": "markdown",
   "metadata": {
    "id": "i60z_eesr9Pv"
   },
   "source": [
    "**Finding Data Types**"
   ]
  },
  {
   "cell_type": "code",
   "execution_count": 12,
   "metadata": {
    "colab": {
     "base_uri": "https://localhost:8080/",
     "height": 147
    },
    "id": "Rh2KG-U8sEdB",
    "outputId": "9469e8f6-0adb-461f-d0ac-6a17e358dbc1"
   },
   "outputs": [
    {
     "data": {
      "text/plain": [
       "password    object\n",
       "strength     int64\n",
       "dtype: object"
      ]
     },
     "execution_count": 12,
     "metadata": {},
     "output_type": "execute_result"
    }
   ],
   "source": [
    "df.dtypes"
   ]
  },
  {
   "cell_type": "markdown",
   "metadata": {
    "id": "rNnYsS42sUGN"
   },
   "source": [
    "**Gathering Information about dependent Variable Strength**"
   ]
  },
  {
   "cell_type": "code",
   "execution_count": 13,
   "metadata": {
    "colab": {
     "base_uri": "https://localhost:8080/"
    },
    "id": "OIjD0vuAsfcm",
    "outputId": "d356171d-9a64-4c59-ad20-2bc87978ea99"
   },
   "outputs": [
    {
     "data": {
      "text/plain": [
       "array([1, 2, 0], dtype=int64)"
      ]
     },
     "execution_count": 13,
     "metadata": {},
     "output_type": "execute_result"
    }
   ],
   "source": [
    "df[\"strength\"].unique()"
   ]
  },
  {
   "cell_type": "code",
   "execution_count": 14,
   "metadata": {
    "colab": {
     "base_uri": "https://localhost:8080/",
     "height": 209
    },
    "id": "kcC1wMy1sjP3",
    "outputId": "2e6bad99-1b47-4e3c-fdfe-9351b764d909"
   },
   "outputs": [
    {
     "data": {
      "text/plain": [
       "1    73883\n",
       "0    13622\n",
       "2    12495\n",
       "Name: strength, dtype: int64"
      ]
     },
     "execution_count": 14,
     "metadata": {},
     "output_type": "execute_result"
    }
   ],
   "source": [
    "df[\"strength\"].value_counts()"
   ]
  },
  {
   "cell_type": "markdown",
   "metadata": {
    "id": "TrZf1-e8wdVz"
   },
   "source": []
  },
  {
   "cell_type": "code",
   "execution_count": 15,
   "metadata": {
    "colab": {
     "base_uri": "https://localhost:8080/",
     "height": 564
    },
    "id": "WIaDcIW4soMI",
    "outputId": "88bfa1f2-1257-4e35-e284-5a000ea77125"
   },
   "outputs": [
    {
     "data": {
      "image/png": "[encoded data removed]",
      "text/plain": [
       "<Figure size 800x600 with 1 Axes>"
      ]
     },
     "metadata": {},
     "output_type": "display_data"
    }
   ],
   "source": [
    "plt.figure(figsize=(8, 6))  # Optional: Set the figure size\n",
    "sns.countplot(data=df, x='strength')  # Change 'x' to the column you want to plot\n",
    "plt.title('Count Plot of Strength')   # Optional: Set the title\n",
    "plt.xlabel('Strength')                  # Optional: Label for x-axis\n",
    "plt.ylabel('Count')                     # Optional: Label for y-axis\n",
    "plt.show()"
   ]
  },
  {
   "cell_type": "code",
   "execution_count": null,
   "metadata": {
    "id": "jUNpLJm_ugsh"
   },
   "outputs": [],
   "source": []
  },
  {
   "cell_type": "markdown",
   "metadata": {
    "id": "CYiwU-f8wd5r"
   },
   "source": [
    "# **Performing Semantic Analysis**\n",
    "\n",
    "*   Passwords with only numeric characters: Identifies passwords consisting solely of numbers, typically indicating weak security.\n",
    "\n",
    "*   Passwords with only uppercase characters: Indicates passwords formed exclusively of uppercase letters, which might lack complexity if no other character types are used.\n",
    "\n",
    "*   Passwords with only alphabetic characters: Highlights passwords that use only letters (either uppercase or lowercase), lacking numbers or special characters, which can reduce password strength.\n",
    "\n",
    "*   Passwords with alphanumeric characters: Recognizes passwords containing a combination of letters and numbers, a commonly recommended practice for moderate security.\n",
    "\n",
    "*   Passwords with title-case characters: Detects passwords where each word or section starts with an uppercase letter, similar to titles (e.g., \"HelloWorld\"). This can add uniqueness, but still may be predictable.\n",
    "\n",
    "*   Passwords with special characters: Points out passwords containing special characters (e.g., !, @, #), which enhances security by increasing password complexity.\n",
    "\n",
    "\n",
    "\n",
    "\n",
    "\n",
    "\n"
   ]
  },
  {
   "cell_type": "markdown",
   "metadata": {
    "id": "Wq69zbbcxYqC"
   },
   "source": [
    "**Password with only Numeric Character**"
   ]
  },
  {
   "cell_type": "code",
   "execution_count": 16,
   "metadata": {
    "colab": {
     "base_uri": "https://localhost:8080/"
    },
    "id": "eA9XRzAfwlSj",
    "outputId": "3d6ded08-c1f2-4b22-9624-6a046761987d"
   },
   "outputs": [
    {
     "name": "stdout",
     "output_type": "stream",
     "text": [
      "Number of passwords with only numeric characters: 26\n"
     ]
    }
   ],
   "source": [
    "numeric_only = df['password'].str.isdigit().sum()\n",
    "print(f\"Number of passwords with only numeric characters: {numeric_only}\")"
   ]
  },
  {
   "cell_type": "code",
   "execution_count": 17,
   "metadata": {
    "colab": {
     "base_uri": "https://localhost:8080/",
     "height": 864
    },
    "id": "6zKJSgM4w00z",
    "outputId": "49e81707-f618-44fb-fa86-83e2b1650dda"
   },
   "outputs": [
    {
     "data": {
      "text/html": [
       "<div>\n",
       "<style scoped>\n",
       "    .dataframe tbody tr th:only-of-type {\n",
       "        vertical-align: middle;\n",
       "    }\n",
       "\n",
       "    .dataframe tbody tr th {\n",
       "        vertical-align: top;\n",
       "    }\n",
       "\n",
       "    .dataframe thead th {\n",
       "        text-align: right;\n",
       "    }\n",
       "</style>\n",
       "<table border=\"1\" class=\"dataframe\">\n",
       "  <thead>\n",
       "    <tr style=\"text-align: right;\">\n",
       "      <th></th>\n",
       "      <th>password</th>\n",
       "      <th>strength</th>\n",
       "    </tr>\n",
       "  </thead>\n",
       "  <tbody>\n",
       "    <tr>\n",
       "      <th>12280</th>\n",
       "      <td>943801</td>\n",
       "      <td>0</td>\n",
       "    </tr>\n",
       "    <tr>\n",
       "      <th>14992</th>\n",
       "      <td>12345</td>\n",
       "      <td>0</td>\n",
       "    </tr>\n",
       "    <tr>\n",
       "      <th>20958</th>\n",
       "      <td>147856</td>\n",
       "      <td>0</td>\n",
       "    </tr>\n",
       "    <tr>\n",
       "      <th>21671</th>\n",
       "      <td>140290</td>\n",
       "      <td>0</td>\n",
       "    </tr>\n",
       "    <tr>\n",
       "      <th>23269</th>\n",
       "      <td>123987</td>\n",
       "      <td>0</td>\n",
       "    </tr>\n",
       "    <tr>\n",
       "      <th>28569</th>\n",
       "      <td>1233214</td>\n",
       "      <td>0</td>\n",
       "    </tr>\n",
       "    <tr>\n",
       "      <th>31329</th>\n",
       "      <td>0159456</td>\n",
       "      <td>0</td>\n",
       "    </tr>\n",
       "    <tr>\n",
       "      <th>32574</th>\n",
       "      <td>363761</td>\n",
       "      <td>0</td>\n",
       "    </tr>\n",
       "    <tr>\n",
       "      <th>37855</th>\n",
       "      <td>4524344</td>\n",
       "      <td>0</td>\n",
       "    </tr>\n",
       "    <tr>\n",
       "      <th>43648</th>\n",
       "      <td>5521597</td>\n",
       "      <td>0</td>\n",
       "    </tr>\n",
       "    <tr>\n",
       "      <th>45271</th>\n",
       "      <td>626262</td>\n",
       "      <td>0</td>\n",
       "    </tr>\n",
       "    <tr>\n",
       "      <th>52266</th>\n",
       "      <td>156651</td>\n",
       "      <td>0</td>\n",
       "    </tr>\n",
       "    <tr>\n",
       "      <th>58717</th>\n",
       "      <td>369</td>\n",
       "      <td>0</td>\n",
       "    </tr>\n",
       "    <tr>\n",
       "      <th>59619</th>\n",
       "      <td>151106</td>\n",
       "      <td>0</td>\n",
       "    </tr>\n",
       "    <tr>\n",
       "      <th>67723</th>\n",
       "      <td>1234</td>\n",
       "      <td>0</td>\n",
       "    </tr>\n",
       "    <tr>\n",
       "      <th>68106</th>\n",
       "      <td>1995151</td>\n",
       "      <td>0</td>\n",
       "    </tr>\n",
       "    <tr>\n",
       "      <th>68592</th>\n",
       "      <td>112233</td>\n",
       "      <td>0</td>\n",
       "    </tr>\n",
       "    <tr>\n",
       "      <th>69255</th>\n",
       "      <td>9562489</td>\n",
       "      <td>0</td>\n",
       "    </tr>\n",
       "    <tr>\n",
       "      <th>74938</th>\n",
       "      <td>12</td>\n",
       "      <td>0</td>\n",
       "    </tr>\n",
       "    <tr>\n",
       "      <th>77298</th>\n",
       "      <td>18731</td>\n",
       "      <td>0</td>\n",
       "    </tr>\n",
       "    <tr>\n",
       "      <th>86406</th>\n",
       "      <td>1050</td>\n",
       "      <td>0</td>\n",
       "    </tr>\n",
       "    <tr>\n",
       "      <th>86608</th>\n",
       "      <td>158491</td>\n",
       "      <td>0</td>\n",
       "    </tr>\n",
       "    <tr>\n",
       "      <th>94908</th>\n",
       "      <td>060415</td>\n",
       "      <td>0</td>\n",
       "    </tr>\n",
       "    <tr>\n",
       "      <th>96459</th>\n",
       "      <td>1</td>\n",
       "      <td>0</td>\n",
       "    </tr>\n",
       "    <tr>\n",
       "      <th>98122</th>\n",
       "      <td>6975818</td>\n",
       "      <td>0</td>\n",
       "    </tr>\n",
       "    <tr>\n",
       "      <th>98248</th>\n",
       "      <td>454545</td>\n",
       "      <td>0</td>\n",
       "    </tr>\n",
       "  </tbody>\n",
       "</table>\n",
       "</div>"
      ],
      "text/plain": [
       "      password  strength\n",
       "12280   943801         0\n",
       "14992    12345         0\n",
       "20958   147856         0\n",
       "21671   140290         0\n",
       "23269   123987         0\n",
       "28569  1233214         0\n",
       "31329  0159456         0\n",
       "32574   363761         0\n",
       "37855  4524344         0\n",
       "43648  5521597         0\n",
       "45271   626262         0\n",
       "52266   156651         0\n",
       "58717      369         0\n",
       "59619   151106         0\n",
       "67723     1234         0\n",
       "68106  1995151         0\n",
       "68592   112233         0\n",
       "69255  9562489         0\n",
       "74938       12         0\n",
       "77298    18731         0\n",
       "86406     1050         0\n",
       "86608   158491         0\n",
       "94908   060415         0\n",
       "96459        1         0\n",
       "98122  6975818         0\n",
       "98248   454545         0"
      ]
     },
     "execution_count": 17,
     "metadata": {},
     "output_type": "execute_result"
    }
   ],
   "source": [
    "df[df['password'].str.isdigit()]"
   ]
  },
  {
   "cell_type": "code",
   "execution_count": null,
   "metadata": {
    "id": "fwzQKIr5w45-"
   },
   "outputs": [],
   "source": []
  },
  {
   "cell_type": "markdown",
   "metadata": {
    "id": "NWpLTn5pyPli"
   },
   "source": [
    "**Password with only Uppercase Alphabets Character**"
   ]
  },
  {
   "cell_type": "code",
   "execution_count": 18,
   "metadata": {
    "colab": {
     "base_uri": "https://localhost:8080/"
    },
    "id": "kYYLPvQVyUyi",
    "outputId": "86b2bd18-7744-4439-95c2-a06737a99b64"
   },
   "outputs": [
    {
     "name": "stdout",
     "output_type": "stream",
     "text": [
      "Number of passwords with only uppercase characters: 1506\n"
     ]
    }
   ],
   "source": [
    "uppercase = df['password'].str.isupper().sum()\n",
    "print(f\"Number of passwords with only uppercase characters: {uppercase}\")"
   ]
  },
  {
   "cell_type": "code",
   "execution_count": 19,
   "metadata": {
    "colab": {
     "base_uri": "https://localhost:8080/",
     "height": 423
    },
    "id": "FKiG3DzmyYxh",
    "outputId": "04237624-d31d-47a2-8a95-dadb3e9c2920"
   },
   "outputs": [
    {
     "data": {
      "text/html": [
       "<div>\n",
       "<style scoped>\n",
       "    .dataframe tbody tr th:only-of-type {\n",
       "        vertical-align: middle;\n",
       "    }\n",
       "\n",
       "    .dataframe tbody tr th {\n",
       "        vertical-align: top;\n",
       "    }\n",
       "\n",
       "    .dataframe thead th {\n",
       "        text-align: right;\n",
       "    }\n",
       "</style>\n",
       "<table border=\"1\" class=\"dataframe\">\n",
       "  <thead>\n",
       "    <tr style=\"text-align: right;\">\n",
       "      <th></th>\n",
       "      <th>password</th>\n",
       "      <th>strength</th>\n",
       "    </tr>\n",
       "  </thead>\n",
       "  <tbody>\n",
       "    <tr>\n",
       "      <th>115</th>\n",
       "      <td>EYT63119</td>\n",
       "      <td>1</td>\n",
       "    </tr>\n",
       "    <tr>\n",
       "      <th>273</th>\n",
       "      <td>INSPIRON6</td>\n",
       "      <td>1</td>\n",
       "    </tr>\n",
       "    <tr>\n",
       "      <th>338</th>\n",
       "      <td>1A2S3D4F</td>\n",
       "      <td>1</td>\n",
       "    </tr>\n",
       "    <tr>\n",
       "      <th>367</th>\n",
       "      <td>13269123A</td>\n",
       "      <td>1</td>\n",
       "    </tr>\n",
       "    <tr>\n",
       "      <th>373</th>\n",
       "      <td>YAMAZAKI82</td>\n",
       "      <td>1</td>\n",
       "    </tr>\n",
       "    <tr>\n",
       "      <th>...</th>\n",
       "      <td>...</td>\n",
       "      <td>...</td>\n",
       "    </tr>\n",
       "    <tr>\n",
       "      <th>99590</th>\n",
       "      <td>V13000993J</td>\n",
       "      <td>1</td>\n",
       "    </tr>\n",
       "    <tr>\n",
       "      <th>99692</th>\n",
       "      <td>65925013ABC</td>\n",
       "      <td>1</td>\n",
       "    </tr>\n",
       "    <tr>\n",
       "      <th>99784</th>\n",
       "      <td>01EDD055</td>\n",
       "      <td>1</td>\n",
       "    </tr>\n",
       "    <tr>\n",
       "      <th>99893</th>\n",
       "      <td>1UPONYOU</td>\n",
       "      <td>1</td>\n",
       "    </tr>\n",
       "    <tr>\n",
       "      <th>99910</th>\n",
       "      <td>UNION1</td>\n",
       "      <td>0</td>\n",
       "    </tr>\n",
       "  </tbody>\n",
       "</table>\n",
       "<p>1506 rows × 2 columns</p>\n",
       "</div>"
      ],
      "text/plain": [
       "          password  strength\n",
       "115       EYT63119         1\n",
       "273      INSPIRON6         1\n",
       "338       1A2S3D4F         1\n",
       "367      13269123A         1\n",
       "373     YAMAZAKI82         1\n",
       "...            ...       ...\n",
       "99590   V13000993J         1\n",
       "99692  65925013ABC         1\n",
       "99784     01EDD055         1\n",
       "99893     1UPONYOU         1\n",
       "99910       UNION1         0\n",
       "\n",
       "[1506 rows x 2 columns]"
      ]
     },
     "execution_count": 19,
     "metadata": {},
     "output_type": "execute_result"
    }
   ],
   "source": [
    "df[df[\"password\"].str.isupper()]"
   ]
  },
  {
   "cell_type": "code",
   "execution_count": 20,
   "metadata": {
    "colab": {
     "base_uri": "https://localhost:8080/"
    },
    "id": "eBIE09WCympt",
    "outputId": "e2622dcc-a594-42de-b72d-7b6c12e70dfa"
   },
   "outputs": [
    {
     "data": {
      "text/plain": [
       "(1506, 2)"
      ]
     },
     "execution_count": 20,
     "metadata": {},
     "output_type": "execute_result"
    }
   ],
   "source": [
    "df[df[\"password\"].str.isupper()].shape"
   ]
  },
  {
   "cell_type": "code",
   "execution_count": null,
   "metadata": {
    "id": "7FmrCI6RyqiC"
   },
   "outputs": [],
   "source": []
  },
  {
   "cell_type": "markdown",
   "metadata": {
    "id": "Yn5CEXoZ0GS9"
   },
   "source": [
    "**Password with only Alphabet Characters**"
   ]
  },
  {
   "cell_type": "code",
   "execution_count": 21,
   "metadata": {
    "colab": {
     "base_uri": "https://localhost:8080/"
    },
    "id": "WTDIVbI_0QG4",
    "outputId": "e9bd575a-4f9a-4885-c62a-d27547d106fc"
   },
   "outputs": [
    {
     "name": "stdout",
     "output_type": "stream",
     "text": [
      "Number of passwords with only alphabet characters: 50\n"
     ]
    }
   ],
   "source": [
    "alphabet_chr = df[\"password\"].str.isalpha().sum()\n",
    "print(f\"Number of passwords with only alphabet characters: {alphabet_chr}\")"
   ]
  },
  {
   "cell_type": "code",
   "execution_count": 22,
   "metadata": {
    "colab": {
     "base_uri": "https://localhost:8080/"
    },
    "id": "upPgzK_q0lWH",
    "outputId": "ffca0b47-f5d8-4853-da20-ee705adee950"
   },
   "outputs": [
    {
     "data": {
      "text/plain": [
       "(50, 2)"
      ]
     },
     "execution_count": 22,
     "metadata": {},
     "output_type": "execute_result"
    }
   ],
   "source": [
    "df[df[\"password\"].str.isalpha()].shape"
   ]
  },
  {
   "cell_type": "markdown",
   "metadata": {
    "id": "Yl8iE0Hn0tSP"
   },
   "source": [
    "**Password with Alphanumeric Character**"
   ]
  },
  {
   "cell_type": "code",
   "execution_count": 23,
   "metadata": {
    "colab": {
     "base_uri": "https://localhost:8080/"
    },
    "id": "PoYlO4yk2kLU",
    "outputId": "0cd9d2ac-0f7e-48e7-ad86-20bf7cfe8b13"
   },
   "outputs": [
    {
     "name": "stdout",
     "output_type": "stream",
     "text": [
      "Number of passwords with alphanumeric characters: 97203\n"
     ]
    }
   ],
   "source": [
    "alphanumeric_chr = df[\"password\"].str.isalnum().sum()\n",
    "print(f\"Number of passwords with alphanumeric characters: {alphanumeric_chr}\")"
   ]
  },
  {
   "cell_type": "code",
   "execution_count": 24,
   "metadata": {
    "colab": {
     "base_uri": "https://localhost:8080/"
    },
    "id": "lV6tuMkK2s0w",
    "outputId": "9d1aac76-3b73-45c4-debc-91faf3164326"
   },
   "outputs": [
    {
     "data": {
      "text/plain": [
       "(97203, 2)"
      ]
     },
     "execution_count": 24,
     "metadata": {},
     "output_type": "execute_result"
    }
   ],
   "source": [
    "df[df[\"password\"].str.isalnum()].shape"
   ]
  },
  {
   "cell_type": "markdown",
   "metadata": {
    "id": "Ae-vFvtf9j9L"
   },
   "source": [
    "**Password with title Case Words**"
   ]
  },
  {
   "cell_type": "code",
   "execution_count": 25,
   "metadata": {
    "colab": {
     "base_uri": "https://localhost:8080/"
    },
    "id": "SVyPwpup9vOi",
    "outputId": "023d5d21-5478-45a8-b2af-5356079af872"
   },
   "outputs": [
    {
     "name": "stdout",
     "output_type": "stream",
     "text": [
      "Number of passwords with title-case characters: 932\n"
     ]
    }
   ],
   "source": [
    "titlecase_chr = df[\"password\"].str.istitle().sum()\n",
    "print(f\"Number of passwords with title-case characters: {titlecase_chr}\")"
   ]
  },
  {
   "cell_type": "code",
   "execution_count": 26,
   "metadata": {
    "colab": {
     "base_uri": "https://localhost:8080/"
    },
    "id": "1TQ2tP_Y96Wz",
    "outputId": "f206e315-0e85-49af-e893-5a607a23d258"
   },
   "outputs": [
    {
     "data": {
      "text/plain": [
       "(932, 2)"
      ]
     },
     "execution_count": 26,
     "metadata": {},
     "output_type": "execute_result"
    }
   ],
   "source": [
    "df[df[\"password\"].str.istitle()].shape"
   ]
  },
  {
   "cell_type": "markdown",
   "metadata": {
    "id": "mQKkuMZF-DnC"
   },
   "source": [
    "**Password with unique characters**"
   ]
  },
  {
   "cell_type": "code",
   "execution_count": 27,
   "metadata": {
    "colab": {
     "base_uri": "https://localhost:8080/"
    },
    "id": "0x1xRSSi99pH",
    "outputId": "f3f653ee-439d-45c6-dc4d-8b87064d918b"
   },
   "outputs": [
    {
     "name": "stdout",
     "output_type": "stream",
     "text": [
      "Number of passwords with unique characters: 2811\n"
     ]
    }
   ],
   "source": [
    "unique_chr = df['password'].str.contains(r'[^a-zA-Z0-9]').sum()\n",
    "print(f\"Number of passwords with unique characters: {unique_chr}\")"
   ]
  },
  {
   "cell_type": "code",
   "execution_count": 28,
   "metadata": {
    "colab": {
     "base_uri": "https://localhost:8080/",
     "height": 423
    },
    "id": "ZTCuQw1d-dX2",
    "outputId": "eea3a98f-2ab0-49a8-c1b1-7a47a6712ad5"
   },
   "outputs": [
    {
     "data": {
      "text/html": [
       "<div>\n",
       "<style scoped>\n",
       "    .dataframe tbody tr th:only-of-type {\n",
       "        vertical-align: middle;\n",
       "    }\n",
       "\n",
       "    .dataframe tbody tr th {\n",
       "        vertical-align: top;\n",
       "    }\n",
       "\n",
       "    .dataframe thead th {\n",
       "        text-align: right;\n",
       "    }\n",
       "</style>\n",
       "<table border=\"1\" class=\"dataframe\">\n",
       "  <thead>\n",
       "    <tr style=\"text-align: right;\">\n",
       "      <th></th>\n",
       "      <th>password</th>\n",
       "      <th>strength</th>\n",
       "    </tr>\n",
       "  </thead>\n",
       "  <tbody>\n",
       "    <tr>\n",
       "      <th>3</th>\n",
       "      <td>accounts6000webhost.com</td>\n",
       "      <td>2</td>\n",
       "    </tr>\n",
       "    <tr>\n",
       "      <th>68</th>\n",
       "      <td>12463773800+</td>\n",
       "      <td>1</td>\n",
       "    </tr>\n",
       "    <tr>\n",
       "      <th>98</th>\n",
       "      <td>p.r.c.d.g.</td>\n",
       "      <td>1</td>\n",
       "    </tr>\n",
       "    <tr>\n",
       "      <th>145</th>\n",
       "      <td>cita-cita</td>\n",
       "      <td>1</td>\n",
       "    </tr>\n",
       "    <tr>\n",
       "      <th>180</th>\n",
       "      <td>karolina.susnina0U</td>\n",
       "      <td>2</td>\n",
       "    </tr>\n",
       "    <tr>\n",
       "      <th>...</th>\n",
       "      <td>...</td>\n",
       "      <td>...</td>\n",
       "    </tr>\n",
       "    <tr>\n",
       "      <th>99748</th>\n",
       "      <td>maiselis.com</td>\n",
       "      <td>1</td>\n",
       "    </tr>\n",
       "    <tr>\n",
       "      <th>99845</th>\n",
       "      <td>hosting4meze!@#</td>\n",
       "      <td>2</td>\n",
       "    </tr>\n",
       "    <tr>\n",
       "      <th>99954</th>\n",
       "      <td>semista_bakung15</td>\n",
       "      <td>2</td>\n",
       "    </tr>\n",
       "    <tr>\n",
       "      <th>99980</th>\n",
       "      <td>halflife2010!LEB</td>\n",
       "      <td>2</td>\n",
       "    </tr>\n",
       "    <tr>\n",
       "      <th>99988</th>\n",
       "      <td>lbhtrnjh@</td>\n",
       "      <td>1</td>\n",
       "    </tr>\n",
       "  </tbody>\n",
       "</table>\n",
       "<p>2811 rows × 2 columns</p>\n",
       "</div>"
      ],
      "text/plain": [
       "                      password  strength\n",
       "3      accounts6000webhost.com         2\n",
       "68                12463773800+         1\n",
       "98                  p.r.c.d.g.         1\n",
       "145                  cita-cita         1\n",
       "180         karolina.susnina0U         2\n",
       "...                        ...       ...\n",
       "99748             maiselis.com         1\n",
       "99845          hosting4meze!@#         2\n",
       "99954         semista_bakung15         2\n",
       "99980         halflife2010!LEB         2\n",
       "99988                lbhtrnjh@         1\n",
       "\n",
       "[2811 rows x 2 columns]"
      ]
     },
     "execution_count": 28,
     "metadata": {},
     "output_type": "execute_result"
    }
   ],
   "source": [
    "df[df['password'].str.contains(r'[^a-zA-Z0-9]')]"
   ]
  },
  {
   "cell_type": "markdown",
   "metadata": {
    "id": "S7dto75U-vr8"
   },
   "source": [
    "# Feature Engineering\n",
    "Strength of Passwords depends upon:\n",
    "\n",
    "*   Length of password\n",
    "*   Frequency of Lowercase Characters\n",
    "*   Frequency of Uppercase Characters\n",
    "*   Frequency of Numeric Characters\n",
    "*   Frequency of Special Characters(Randomness)"
   ]
  },
  {
   "cell_type": "markdown",
   "metadata": {
    "id": "H-v8kcDKFGGE"
   },
   "source": [
    "####Length of password"
   ]
  },
  {
   "cell_type": "code",
   "execution_count": 29,
   "metadata": {
    "id": "FXGxiTB9B3jA"
   },
   "outputs": [],
   "source": [
    "df[\"length\"] = df[\"password\"].str.len()"
   ]
  },
  {
   "cell_type": "code",
   "execution_count": 30,
   "metadata": {
    "colab": {
     "base_uri": "https://localhost:8080/",
     "height": 206
    },
    "id": "-LEzF3yTB3md",
    "outputId": "353d09d2-2458-4308-cd67-fafb402a977f"
   },
   "outputs": [
    {
     "data": {
      "text/html": [
       "<div>\n",
       "<style scoped>\n",
       "    .dataframe tbody tr th:only-of-type {\n",
       "        vertical-align: middle;\n",
       "    }\n",
       "\n",
       "    .dataframe tbody tr th {\n",
       "        vertical-align: top;\n",
       "    }\n",
       "\n",
       "    .dataframe thead th {\n",
       "        text-align: right;\n",
       "    }\n",
       "</style>\n",
       "<table border=\"1\" class=\"dataframe\">\n",
       "  <thead>\n",
       "    <tr style=\"text-align: right;\">\n",
       "      <th></th>\n",
       "      <th>password</th>\n",
       "      <th>strength</th>\n",
       "      <th>length</th>\n",
       "    </tr>\n",
       "  </thead>\n",
       "  <tbody>\n",
       "    <tr>\n",
       "      <th>0</th>\n",
       "      <td>zxe870819</td>\n",
       "      <td>1</td>\n",
       "      <td>9</td>\n",
       "    </tr>\n",
       "    <tr>\n",
       "      <th>1</th>\n",
       "      <td>xw46454nr23l</td>\n",
       "      <td>1</td>\n",
       "      <td>12</td>\n",
       "    </tr>\n",
       "    <tr>\n",
       "      <th>2</th>\n",
       "      <td>soporte13</td>\n",
       "      <td>1</td>\n",
       "      <td>9</td>\n",
       "    </tr>\n",
       "    <tr>\n",
       "      <th>3</th>\n",
       "      <td>accounts6000webhost.com</td>\n",
       "      <td>2</td>\n",
       "      <td>23</td>\n",
       "    </tr>\n",
       "    <tr>\n",
       "      <th>4</th>\n",
       "      <td>c443balg</td>\n",
       "      <td>1</td>\n",
       "      <td>8</td>\n",
       "    </tr>\n",
       "  </tbody>\n",
       "</table>\n",
       "</div>"
      ],
      "text/plain": [
       "                  password  strength  length\n",
       "0                zxe870819         1       9\n",
       "1             xw46454nr23l         1      12\n",
       "2                soporte13         1       9\n",
       "3  accounts6000webhost.com         2      23\n",
       "4                 c443balg         1       8"
      ]
     },
     "execution_count": 30,
     "metadata": {},
     "output_type": "execute_result"
    }
   ],
   "source": [
    "df.head()"
   ]
  },
  {
   "cell_type": "markdown",
   "metadata": {
    "id": "mS3xWUhsFSAd"
   },
   "source": [
    "####Frequency of Lowercase Characters"
   ]
  },
  {
   "cell_type": "code",
   "execution_count": 31,
   "metadata": {
    "id": "tzLqHCGkFWxN"
   },
   "outputs": [],
   "source": [
    "def freq_lowercase(row):\n",
    "    return len([char for char in row if char.islower()])/len(row)"
   ]
  },
  {
   "cell_type": "code",
   "execution_count": 32,
   "metadata": {
    "id": "c4feBrhiFmMQ"
   },
   "outputs": [],
   "source": [
    "df[\"LowerCase Freq\"] = np.round(df[\"password\"].apply(freq_lowercase),3)"
   ]
  },
  {
   "cell_type": "code",
   "execution_count": 33,
   "metadata": {
    "colab": {
     "base_uri": "https://localhost:8080/",
     "height": 206
    },
    "id": "-AJ2yxMrGNtX",
    "outputId": "11ed0658-acf1-4775-c250-df97aea709f2"
   },
   "outputs": [
    {
     "data": {
      "text/html": [
       "<div>\n",
       "<style scoped>\n",
       "    .dataframe tbody tr th:only-of-type {\n",
       "        vertical-align: middle;\n",
       "    }\n",
       "\n",
       "    .dataframe tbody tr th {\n",
       "        vertical-align: top;\n",
       "    }\n",
       "\n",
       "    .dataframe thead th {\n",
       "        text-align: right;\n",
       "    }\n",
       "</style>\n",
       "<table border=\"1\" class=\"dataframe\">\n",
       "  <thead>\n",
       "    <tr style=\"text-align: right;\">\n",
       "      <th></th>\n",
       "      <th>password</th>\n",
       "      <th>strength</th>\n",
       "      <th>length</th>\n",
       "      <th>LowerCase Freq</th>\n",
       "    </tr>\n",
       "  </thead>\n",
       "  <tbody>\n",
       "    <tr>\n",
       "      <th>0</th>\n",
       "      <td>zxe870819</td>\n",
       "      <td>1</td>\n",
       "      <td>9</td>\n",
       "      <td>0.333</td>\n",
       "    </tr>\n",
       "    <tr>\n",
       "      <th>1</th>\n",
       "      <td>xw46454nr23l</td>\n",
       "      <td>1</td>\n",
       "      <td>12</td>\n",
       "      <td>0.417</td>\n",
       "    </tr>\n",
       "    <tr>\n",
       "      <th>2</th>\n",
       "      <td>soporte13</td>\n",
       "      <td>1</td>\n",
       "      <td>9</td>\n",
       "      <td>0.778</td>\n",
       "    </tr>\n",
       "    <tr>\n",
       "      <th>3</th>\n",
       "      <td>accounts6000webhost.com</td>\n",
       "      <td>2</td>\n",
       "      <td>23</td>\n",
       "      <td>0.783</td>\n",
       "    </tr>\n",
       "    <tr>\n",
       "      <th>4</th>\n",
       "      <td>c443balg</td>\n",
       "      <td>1</td>\n",
       "      <td>8</td>\n",
       "      <td>0.625</td>\n",
       "    </tr>\n",
       "  </tbody>\n",
       "</table>\n",
       "</div>"
      ],
      "text/plain": [
       "                  password  strength  length  LowerCase Freq\n",
       "0                zxe870819         1       9           0.333\n",
       "1             xw46454nr23l         1      12           0.417\n",
       "2                soporte13         1       9           0.778\n",
       "3  accounts6000webhost.com         2      23           0.783\n",
       "4                 c443balg         1       8           0.625"
      ]
     },
     "execution_count": 33,
     "metadata": {},
     "output_type": "execute_result"
    }
   ],
   "source": [
    "df.head()"
   ]
  },
  {
   "cell_type": "markdown",
   "metadata": {
    "id": "DLIUiMlMG5oD"
   },
   "source": [
    "#### Frequency of Upper Case Characters"
   ]
  },
  {
   "cell_type": "code",
   "execution_count": 34,
   "metadata": {
    "id": "j7YwBkOBG6SG"
   },
   "outputs": [],
   "source": [
    "def uppercase_freq(row):\n",
    "    return len([char for char in row if char.isupper()])/len(row)"
   ]
  },
  {
   "cell_type": "code",
   "execution_count": 35,
   "metadata": {
    "id": "Wvq45Nt_HSm2"
   },
   "outputs": [],
   "source": [
    "df[\"UpperCase Freq\"] = np.round(df[\"password\"].apply(uppercase_freq),3)"
   ]
  },
  {
   "cell_type": "code",
   "execution_count": 36,
   "metadata": {
    "colab": {
     "base_uri": "https://localhost:8080/",
     "height": 206
    },
    "id": "P3nIDbD6HZD4",
    "outputId": "790a6f9e-8f56-4498-90d2-e9a6fc29555b"
   },
   "outputs": [
    {
     "data": {
      "text/html": [
       "<div>\n",
       "<style scoped>\n",
       "    .dataframe tbody tr th:only-of-type {\n",
       "        vertical-align: middle;\n",
       "    }\n",
       "\n",
       "    .dataframe tbody tr th {\n",
       "        vertical-align: top;\n",
       "    }\n",
       "\n",
       "    .dataframe thead th {\n",
       "        text-align: right;\n",
       "    }\n",
       "</style>\n",
       "<table border=\"1\" class=\"dataframe\">\n",
       "  <thead>\n",
       "    <tr style=\"text-align: right;\">\n",
       "      <th></th>\n",
       "      <th>password</th>\n",
       "      <th>strength</th>\n",
       "      <th>length</th>\n",
       "      <th>LowerCase Freq</th>\n",
       "      <th>UpperCase Freq</th>\n",
       "    </tr>\n",
       "  </thead>\n",
       "  <tbody>\n",
       "    <tr>\n",
       "      <th>0</th>\n",
       "      <td>zxe870819</td>\n",
       "      <td>1</td>\n",
       "      <td>9</td>\n",
       "      <td>0.333</td>\n",
       "      <td>0.0</td>\n",
       "    </tr>\n",
       "    <tr>\n",
       "      <th>1</th>\n",
       "      <td>xw46454nr23l</td>\n",
       "      <td>1</td>\n",
       "      <td>12</td>\n",
       "      <td>0.417</td>\n",
       "      <td>0.0</td>\n",
       "    </tr>\n",
       "    <tr>\n",
       "      <th>2</th>\n",
       "      <td>soporte13</td>\n",
       "      <td>1</td>\n",
       "      <td>9</td>\n",
       "      <td>0.778</td>\n",
       "      <td>0.0</td>\n",
       "    </tr>\n",
       "    <tr>\n",
       "      <th>3</th>\n",
       "      <td>accounts6000webhost.com</td>\n",
       "      <td>2</td>\n",
       "      <td>23</td>\n",
       "      <td>0.783</td>\n",
       "      <td>0.0</td>\n",
       "    </tr>\n",
       "    <tr>\n",
       "      <th>4</th>\n",
       "      <td>c443balg</td>\n",
       "      <td>1</td>\n",
       "      <td>8</td>\n",
       "      <td>0.625</td>\n",
       "      <td>0.0</td>\n",
       "    </tr>\n",
       "  </tbody>\n",
       "</table>\n",
       "</div>"
      ],
      "text/plain": [
       "                  password  strength  length  LowerCase Freq  UpperCase Freq\n",
       "0                zxe870819         1       9           0.333             0.0\n",
       "1             xw46454nr23l         1      12           0.417             0.0\n",
       "2                soporte13         1       9           0.778             0.0\n",
       "3  accounts6000webhost.com         2      23           0.783             0.0\n",
       "4                 c443balg         1       8           0.625             0.0"
      ]
     },
     "execution_count": 36,
     "metadata": {},
     "output_type": "execute_result"
    }
   ],
   "source": [
    "df.head()"
   ]
  },
  {
   "cell_type": "markdown",
   "metadata": {
    "id": "8u5ssASPJslY"
   },
   "source": [
    "#### Frequency of Numeric Characters"
   ]
  },
  {
   "cell_type": "code",
   "execution_count": 37,
   "metadata": {
    "id": "reXk83UeJt_I"
   },
   "outputs": [],
   "source": [
    "def numeric_freq(row):\n",
    "    return len([char for char in row if char.isnumeric()])/len(row)"
   ]
  },
  {
   "cell_type": "code",
   "execution_count": 38,
   "metadata": {
    "id": "ssJsSku0J3V4"
   },
   "outputs": [],
   "source": [
    "df[\"Numeric Freq\"] = np.round(df[\"password\"].apply(numeric_freq),3)"
   ]
  },
  {
   "cell_type": "markdown",
   "metadata": {
    "id": "QNB7TFSYKoT_"
   },
   "source": [
    "#### Frequency of Special Characters"
   ]
  },
  {
   "cell_type": "code",
   "execution_count": 39,
   "metadata": {
    "id": "vEvmvWbCKxBo"
   },
   "outputs": [],
   "source": [
    "import re\n",
    "\n",
    "def special_freq(row):\n",
    "    # Count the special characters and divide by total length\n",
    "    special_chars = len([char for char in row if re.match(r'[^a-zA-Z0-9]', char)])\n",
    "    return special_chars / len(row)\n"
   ]
  },
  {
   "cell_type": "code",
   "execution_count": null,
   "metadata": {
    "id": "i8OcCK6pMcY8"
   },
   "outputs": [],
   "source": []
  },
  {
   "cell_type": "code",
   "execution_count": 40,
   "metadata": {
    "id": "f_Gg0JYGLJr-"
   },
   "outputs": [],
   "source": [
    "df[\"Special Freq\"] = np.round(df[\"password\"].apply(special_freq),3)"
   ]
  },
  {
   "cell_type": "code",
   "execution_count": 41,
   "metadata": {
    "colab": {
     "base_uri": "https://localhost:8080/",
     "height": 206
    },
    "id": "qDsQTwQNLM_N",
    "outputId": "18ff12cb-3bba-4a3f-95e9-e8470e2adb0e"
   },
   "outputs": [
    {
     "data": {
      "text/html": [
       "<div>\n",
       "<style scoped>\n",
       "    .dataframe tbody tr th:only-of-type {\n",
       "        vertical-align: middle;\n",
       "    }\n",
       "\n",
       "    .dataframe tbody tr th {\n",
       "        vertical-align: top;\n",
       "    }\n",
       "\n",
       "    .dataframe thead th {\n",
       "        text-align: right;\n",
       "    }\n",
       "</style>\n",
       "<table border=\"1\" class=\"dataframe\">\n",
       "  <thead>\n",
       "    <tr style=\"text-align: right;\">\n",
       "      <th></th>\n",
       "      <th>password</th>\n",
       "      <th>strength</th>\n",
       "      <th>length</th>\n",
       "      <th>LowerCase Freq</th>\n",
       "      <th>UpperCase Freq</th>\n",
       "      <th>Numeric Freq</th>\n",
       "      <th>Special Freq</th>\n",
       "    </tr>\n",
       "  </thead>\n",
       "  <tbody>\n",
       "    <tr>\n",
       "      <th>0</th>\n",
       "      <td>zxe870819</td>\n",
       "      <td>1</td>\n",
       "      <td>9</td>\n",
       "      <td>0.333</td>\n",
       "      <td>0.0</td>\n",
       "      <td>0.667</td>\n",
       "      <td>0.000</td>\n",
       "    </tr>\n",
       "    <tr>\n",
       "      <th>1</th>\n",
       "      <td>xw46454nr23l</td>\n",
       "      <td>1</td>\n",
       "      <td>12</td>\n",
       "      <td>0.417</td>\n",
       "      <td>0.0</td>\n",
       "      <td>0.583</td>\n",
       "      <td>0.000</td>\n",
       "    </tr>\n",
       "    <tr>\n",
       "      <th>2</th>\n",
       "      <td>soporte13</td>\n",
       "      <td>1</td>\n",
       "      <td>9</td>\n",
       "      <td>0.778</td>\n",
       "      <td>0.0</td>\n",
       "      <td>0.222</td>\n",
       "      <td>0.000</td>\n",
       "    </tr>\n",
       "    <tr>\n",
       "      <th>3</th>\n",
       "      <td>accounts6000webhost.com</td>\n",
       "      <td>2</td>\n",
       "      <td>23</td>\n",
       "      <td>0.783</td>\n",
       "      <td>0.0</td>\n",
       "      <td>0.174</td>\n",
       "      <td>0.043</td>\n",
       "    </tr>\n",
       "    <tr>\n",
       "      <th>4</th>\n",
       "      <td>c443balg</td>\n",
       "      <td>1</td>\n",
       "      <td>8</td>\n",
       "      <td>0.625</td>\n",
       "      <td>0.0</td>\n",
       "      <td>0.375</td>\n",
       "      <td>0.000</td>\n",
       "    </tr>\n",
       "  </tbody>\n",
       "</table>\n",
       "</div>"
      ],
      "text/plain": [
       "                  password  strength  length  LowerCase Freq  UpperCase Freq  \\\n",
       "0                zxe870819         1       9           0.333             0.0   \n",
       "1             xw46454nr23l         1      12           0.417             0.0   \n",
       "2                soporte13         1       9           0.778             0.0   \n",
       "3  accounts6000webhost.com         2      23           0.783             0.0   \n",
       "4                 c443balg         1       8           0.625             0.0   \n",
       "\n",
       "   Numeric Freq  Special Freq  \n",
       "0         0.667         0.000  \n",
       "1         0.583         0.000  \n",
       "2         0.222         0.000  \n",
       "3         0.174         0.043  \n",
       "4         0.375         0.000  "
      ]
     },
     "execution_count": 41,
     "metadata": {},
     "output_type": "execute_result"
    }
   ],
   "source": [
    "df.head()"
   ]
  },
  {
   "cell_type": "code",
   "execution_count": null,
   "metadata": {
    "id": "3T9nCLqrMkK9"
   },
   "outputs": [],
   "source": []
  },
  {
   "cell_type": "markdown",
   "metadata": {
    "id": "8ELd6xRbOggM"
   },
   "source": [
    "# Performing Descriptive Statistics"
   ]
  },
  {
   "cell_type": "code",
   "execution_count": 42,
   "metadata": {
    "colab": {
     "base_uri": "https://localhost:8080/"
    },
    "id": "BKAhjOwgOpGV",
    "outputId": "81330325-e198-4cea-a6ee-2c75302a11f8"
   },
   "outputs": [
    {
     "name": "stdout",
     "output_type": "stream",
     "text": [
      "length\n",
      "         length                       \n",
      "            min  max       mean median\n",
      "strength                              \n",
      "0             1    7   6.550947    7.0\n",
      "1             8   13   9.611074    9.0\n",
      "2            14  220  15.953421   16.0\n",
      "\n",
      "\n",
      "LowerCase Freq\n",
      "         LowerCase Freq                        \n",
      "                    min    max      mean median\n",
      "strength                                       \n",
      "0                   0.0  1.000  0.708050  0.714\n",
      "1                   0.0  0.923  0.630067  0.667\n",
      "2                   0.0  0.917  0.424679  0.400\n",
      "\n",
      "\n",
      "UpperCase Freq\n",
      "         UpperCase Freq                        \n",
      "                    min    max      mean median\n",
      "strength                                       \n",
      "0                   0.0  1.000  0.012872  0.000\n",
      "1                   0.0  0.923  0.007915  0.000\n",
      "2                   0.0  0.889  0.367633  0.429\n",
      "\n",
      "\n",
      "Numeric Freq\n",
      "         Numeric Freq                        \n",
      "                  min    max      mean median\n",
      "strength                                     \n",
      "0                 0.0  1.000  0.275383  0.286\n",
      "1                 0.0  0.923  0.360123  0.333\n",
      "2                 0.0  0.895  0.193796  0.188\n",
      "\n",
      "\n",
      "Special Freq\n",
      "         Special Freq                        \n",
      "                  min    max      mean median\n",
      "strength                                     \n",
      "0                 0.0  1.000  0.003902    0.0\n",
      "1                 0.0  0.875  0.001921    0.0\n",
      "2                 0.0  0.741  0.013903    0.0\n",
      "\n",
      "\n"
     ]
    }
   ],
   "source": [
    "cols = ['length', 'LowerCase Freq', 'UpperCase Freq',\n",
    "       'Numeric Freq', 'Special Freq']\n",
    "\n",
    "for col in cols:\n",
    "    print(col)\n",
    "    print(df[[col , 'strength']].groupby(['strength']).agg([\"min\", \"max\" , \"mean\" , \"median\"]))\n",
    "    print('\\n')"
   ]
  },
  {
   "cell_type": "markdown",
   "metadata": {
    "id": "rBMA2LQXSGVs"
   },
   "source": [
    "#### Key Findings\n",
    "\n",
    "\n",
    "*   Stronger passwords (Strength 2) tend to be significantly longer, while weaker passwords (Strength 0) are generally shorter.\n",
    "*   Lowercase letters are heavily used in weaker passwords, whereas stronger passwords (Strength 2) balance lowercase letters with other character types.\n",
    "*   Strong passwords tend to have more uppercase letters, which adds complexity and improves strength.\n",
    "*   Weaker passwords (0 and 1) often use numbers to compensate for simplicity, while stronger passwords use numerics sparingly, emphasizing a more balanced character mix.\n",
    "*   While special characters are rare in general, their slightly higher usage in strong passwords (Strength 2) indicates they can add valuable complexity when used.\n",
    "\n",
    "\n",
    "\n"
   ]
  },
  {
   "cell_type": "markdown",
   "metadata": {
    "id": "3cFTjK-gS6JV"
   },
   "source": [
    "#### Box Plot for Visualization"
   ]
  },
  {
   "cell_type": "code",
   "execution_count": 43,
   "metadata": {
    "colab": {
     "base_uri": "https://localhost:8080/",
     "height": 1000
    },
    "id": "8NEk21emZJuv",
    "outputId": "0a12ff34-9042-418a-e2df-8b0c3923ce27"
   },
   "outputs": [
    {
     "data": {
      "image/png": "[encoded data removed]",
      "text/plain": [
       "<Figure size 1800x1200 with 6 Axes>"
      ]
     },
     "metadata": {},
     "output_type": "display_data"
    }
   ],
   "source": [
    "fig , ((ax1 , ax2) , (ax3 , ax4) , (ax5,ax6)) = plt.subplots(3 , 2 , figsize=(18,12))\n",
    "\n",
    "sns.boxplot(x=\"strength\" , y='length' , hue=\"strength\" , ax=ax1 , data=df)\n",
    "sns.boxplot(x=\"strength\" , y='LowerCase Freq' , hue=\"strength\" , ax=ax2, data=df)\n",
    "sns.boxplot(x=\"strength\" , y='UpperCase Freq' , hue=\"strength\" , ax=ax3, data=df)\n",
    "sns.boxplot(x=\"strength\" , y='Numeric Freq' , hue=\"strength\" , ax=ax4, data=df)\n",
    "sns.boxplot(x=\"strength\" , y='Special Freq' , hue=\"strength\" , ax=ax5, data=df)\n",
    "plt.subplots_adjust(hspace=0.6)"
   ]
  },
  {
   "cell_type": "markdown",
   "metadata": {
    "id": "KhyLny8RSPSw"
   },
   "source": [
    "#### Finding after using BoxPlot\n"
   ]
  },
  {
   "cell_type": "markdown",
   "metadata": {
    "id": "JLyPvt-hjgvG"
   },
   "source": [
    "\n",
    "*   Lowercase Frequency and Password Strength:\n",
    "\n",
    "Lowercase letters are more common in low-strength passwords. For high-strength passwords, lowercase letters can also have a high frequency, but this often relates to the password’s overall length.\n",
    "\n",
    "\n",
    "*   Digit Frequency (Numeric Frequency):\n",
    "\n",
    "There’s a split in digit frequency across passwords of different strengths. Medium-strength (1) and high-strength (2) passwords show some distinct characteristics, while low-strength (0) and medium-strength (1) passwords overlap, offering limited insights.\n",
    "\n",
    "\n",
    "Medium- to high-strength passwords have digits distributed proportionately, suggesting that a well-balanced password is often stronger. Low-strength passwords often lack this balance, making them easier to compromise.\n",
    "\n",
    "*   Uppercase Frequency:\n",
    "\n",
    "While there’s a trend showing that uppercase letters contribute to strength, this trend isn’t as strong as that for length or lowercase letters.\n",
    "\n",
    "Adding uppercase letters does make a password stronger, but on its own, it doesn’t contribute as significantly as a balanced mix of character types or a longer length. So, uppercase letters help, but they aren’t a sole determinant of strength.\n",
    "\n",
    "\n",
    "*   Special Character Frequency:\n",
    "\n",
    "The presence of special characters tends to indicate higher-strength passwords, and this trend is more pronounced than that of uppercase letters.\n",
    "\n",
    "\n",
    "Special characters make passwords harder to guess and more complex, which is why high-strength passwords often include them. This reinforces the importance of diversity in character types.\n",
    "\n",
    "\n",
    "\n",
    "*   Final Findings:\n",
    "\n",
    "Higher-strength passwords typically include a mix of character types—lowercase, uppercase, numeric, and special characters. This diversity increases the range and spread seen in the boxplots, showing that these passwords are not limited to a few simple character types.\n",
    "\n",
    "\n",
    "\n",
    "\n",
    "\n",
    "\n",
    "\n",
    "\n"
   ]
  },
  {
   "cell_type": "markdown",
   "metadata": {
    "id": "b09uVkTRjbo4"
   },
   "source": [
    "# Feature  Importance"
   ]
  },
  {
   "cell_type": "code",
   "execution_count": 44,
   "metadata": {
    "id": "7dXQ8X47uyGW"
   },
   "outputs": [],
   "source": [
    "\n",
    "\n",
    "def get_dist(df, feature):\n",
    "    plt.figure(figsize=(10, 8))\n",
    "\n",
    "    # Violin plot\n",
    "    plt.subplot(1, 2, 1)\n",
    "    sns.violinplot(x='strength', y=feature, data=df)\n",
    "\n",
    "    # KDE plot with labels\n",
    "    plt.subplot(1, 2, 2)\n",
    "    sns.kdeplot(df[df['strength'] == 0][feature], color=\"red\", label=\"0\")\n",
    "    sns.kdeplot(df[df['strength'] == 1][feature], color=\"blue\", label=\"1\")\n",
    "    sns.kdeplot(df[df['strength'] == 2][feature], color=\"orange\", label=\"2\")\n",
    "\n",
    "    plt.legend()\n",
    "    plt.show()\n",
    "\n"
   ]
  },
  {
   "cell_type": "code",
   "execution_count": 45,
   "metadata": {
    "colab": {
     "base_uri": "https://localhost:8080/"
    },
    "id": "InEkGFM4BlAk",
    "outputId": "24bb60ae-2050-423b-ac60-e5227b2e8a35"
   },
   "outputs": [
    {
     "data": {
      "text/plain": [
       "Index(['password', 'strength', 'length', 'LowerCase Freq', 'UpperCase Freq',\n",
       "       'Numeric Freq', 'Special Freq'],\n",
       "      dtype='object')"
      ]
     },
     "execution_count": 45,
     "metadata": {},
     "output_type": "execute_result"
    }
   ],
   "source": [
    "df.columns"
   ]
  },
  {
   "cell_type": "code",
   "execution_count": 46,
   "metadata": {
    "id": "uH6ixQUICR0z"
   },
   "outputs": [],
   "source": [
    "import warnings\n",
    "from warnings import filterwarnings\n",
    "filterwarnings(\"ignore\")"
   ]
  },
  {
   "cell_type": "code",
   "execution_count": 47,
   "metadata": {
    "colab": {
     "base_uri": "https://localhost:8080/",
     "height": 696
    },
    "id": "CmgNqSeku0Zu",
    "outputId": "fcc1f8a2-23cb-4999-aa73-8802ba78a8c3"
   },
   "outputs": [
    {
     "data": {
      "image/png": "[encoded data removed]",
      "text/plain": [
       "<Figure size 1000x800 with 2 Axes>"
      ]
     },
     "metadata": {},
     "output_type": "display_data"
    }
   ],
   "source": [
    "get_dist(df,'length')"
   ]
  },
  {
   "cell_type": "markdown",
   "metadata": {},
   "source": [
    "#### Finding after using Violen Plot and Distribution Plot\n",
    "1.   Overlap in Distribution and Violin Plots:\n",
    "\n",
    "*    When the distribution of values across classes (like strength = 0, strength = 1, and strength = 2) shows minimal overlap, it implies that the feature values differ significantly across classes.\n",
    "*    For example, if length shows distinct distributions for each class, it suggests that longer passwords tend to have higher strength, and shorter ones tend to have lower strength, with minimal overlap between classes.\n",
    "\n",
    "\n",
    "2.  Length as an Interesting Feature\n",
    "*   The observation that length has higher values for class 2 (strong passwords) compared to classes 1 and 0 (weaker passwords) suggests that length is strongly associated with password strength.\n",
    "*   Because there’s less overlap in length values across strength classes, it means length is a useful indicator of strength; the distribution for each class is distinct enough to aid classification."
   ]
  },
  {
   "cell_type": "code",
   "execution_count": 48,
   "metadata": {
    "colab": {
     "base_uri": "https://localhost:8080/",
     "height": 696
    },
    "id": "l6k8trlMCgSH",
    "outputId": "9eb6c067-efc6-40d0-9144-e1414822facf"
   },
   "outputs": [
    {
     "data": {
      "image/png": "[encoded data removed]",
      "text/plain": [
       "<Figure size 1000x800 with 2 Axes>"
      ]
     },
     "metadata": {},
     "output_type": "display_data"
    }
   ],
   "source": [
    "get_dist(df,'LowerCase Freq')"
   ]
  },
  {
   "cell_type": "markdown",
   "metadata": {},
   "source": [
    "#### Finding after using Violen Plot and Distribution Plot\n",
    "1.   Overlap in Distribution for lower_freq:\n",
    "\n",
    "*    lower_freq (frequency of lowercase characters) shows some overlap between strength classes, which indicates that it's not as clear-cut in distinguishing strength levels as length might be.\n",
    "*    Specifically, you observe that class 2 (stronger passwords) has a lower average lower_freq than classes 1 and 0. This suggests that stronger passwords tend to have a lower frequency of lowercase letters, likely due to the presence of other character types (uppercase, numeric, or special characters).\n",
    "\n",
    "\n",
    "2.  Violin Plot Analysis:\n",
    "*   This overlap suggests that lower_freq can contribute to identifying password strength, but because the distributions are not entirely distinct, lower_freq is moderately useful rather than a definitive predictor."
   ]
  },
  {
   "cell_type": "code",
   "execution_count": 49,
   "metadata": {
    "id": "c8rNfJ65Amn4"
   },
   "outputs": [
    {
     "data": {
      "image/png": "[encoded data removed]",
      "text/plain": [
       "<Figure size 1000x800 with 2 Axes>"
      ]
     },
     "metadata": {},
     "output_type": "display_data"
    }
   ],
   "source": [
    "get_dist(df, \"UpperCase Freq\")"
   ]
  },
  {
   "cell_type": "markdown",
   "metadata": {},
   "source": [
    "#### Finding after using Violen Plot and Distribution Plot\n",
    "1.   High Overlap in upper_freq Distribution:\n",
    "\n",
    "*   The distribution plot shows a significant overlap in upper_freq values across password strength classes (0, 1, and 2).\n",
    "*    This high degree of overlap suggests that the presence of uppercase characters does not strongly differentiate between stronger and weaker passwords, as similar upper_freq values appear across different classes.\n",
    "\n"
   ]
  },
  {
   "cell_type": "code",
   "execution_count": 50,
   "metadata": {},
   "outputs": [
    {
     "data": {
      "image/png": "[encoded data removed]",
      "text/plain": [
       "<Figure size 1000x800 with 2 Axes>"
      ]
     },
     "metadata": {},
     "output_type": "display_data"
    }
   ],
   "source": [
    "get_dist(df,\"Numeric Freq\")"
   ]
  },
  {
   "cell_type": "markdown",
   "metadata": {},
   "source": [
    "#### Finding after using Violen Plot and Distribution Plot\n",
    "1.   High Overlap in digit_freq Distribution:\n",
    "\n",
    "* The distribution plot for digit_freq shows a significant overlap across different password strength classes (0, 1, and 2).\n",
    "* This overlap implies that the presence or frequency of digits does not strongly distinguish password strength categories, as similar numeric frequencies are present across classes."
   ]
  },
  {
   "cell_type": "code",
   "execution_count": 53,
   "metadata": {
    "scrolled": true
   },
   "outputs": [
    {
     "data": {
      "image/png": "[encoded data removed]",
      "text/plain": [
       "<Figure size 1000x800 with 2 Axes>"
      ]
     },
     "metadata": {},
     "output_type": "display_data"
    }
   ],
   "source": [
    "get_dist(df,\"Special Freq\" )"
   ]
  },
  {
   "cell_type": "markdown",
   "metadata": {},
   "source": [
    "#### Finding after using Violen Plot and Distribution Plot\n",
    "1.   High Overlap in Special Character Frequency Distribution:\n",
    "\n",
    "* The distribution plot for digit_freq shows a significant overlap across different password strength classes (0, 1, and 2).\n",
    "* This overlap implies that the presence or frequency of Special Character does not strongly distinguish password strength categories, as similar special character frequencies are present across classes."
   ]
  },
  {
   "cell_type": "markdown",
   "metadata": {},
   "source": [
    "#### Key Insights\n",
    "*   It gives us idea that length & lowercase freq are important features"
   ]
  },
  {
   "cell_type": "markdown",
   "metadata": {},
   "source": [
    "## Applying TF_IDF on data"
   ]
  },
  {
   "cell_type": "code",
   "execution_count": 55,
   "metadata": {},
   "outputs": [],
   "source": [
    "dataframe = df.sample(frac=1)"
   ]
  },
  {
   "cell_type": "code",
   "execution_count": 56,
   "metadata": {},
   "outputs": [
    {
     "data": {
      "text/html": [
       "<div>\n",
       "<style scoped>\n",
       "    .dataframe tbody tr th:only-of-type {\n",
       "        vertical-align: middle;\n",
       "    }\n",
       "\n",
       "    .dataframe tbody tr th {\n",
       "        vertical-align: top;\n",
       "    }\n",
       "\n",
       "    .dataframe thead th {\n",
       "        text-align: right;\n",
       "    }\n",
       "</style>\n",
       "<table border=\"1\" class=\"dataframe\">\n",
       "  <thead>\n",
       "    <tr style=\"text-align: right;\">\n",
       "      <th></th>\n",
       "      <th>password</th>\n",
       "      <th>strength</th>\n",
       "      <th>length</th>\n",
       "      <th>LowerCase Freq</th>\n",
       "      <th>UpperCase Freq</th>\n",
       "      <th>Numeric Freq</th>\n",
       "      <th>Special Freq</th>\n",
       "    </tr>\n",
       "  </thead>\n",
       "  <tbody>\n",
       "    <tr>\n",
       "      <th>68722</th>\n",
       "      <td>waditya1</td>\n",
       "      <td>1</td>\n",
       "      <td>8</td>\n",
       "      <td>0.875</td>\n",
       "      <td>0.000</td>\n",
       "      <td>0.125</td>\n",
       "      <td>0.0</td>\n",
       "    </tr>\n",
       "    <tr>\n",
       "      <th>67003</th>\n",
       "      <td>guille215</td>\n",
       "      <td>1</td>\n",
       "      <td>9</td>\n",
       "      <td>0.667</td>\n",
       "      <td>0.000</td>\n",
       "      <td>0.333</td>\n",
       "      <td>0.0</td>\n",
       "    </tr>\n",
       "    <tr>\n",
       "      <th>81017</th>\n",
       "      <td>kilv1003</td>\n",
       "      <td>1</td>\n",
       "      <td>8</td>\n",
       "      <td>0.500</td>\n",
       "      <td>0.000</td>\n",
       "      <td>0.500</td>\n",
       "      <td>0.0</td>\n",
       "    </tr>\n",
       "    <tr>\n",
       "      <th>62638</th>\n",
       "      <td>kaloqn132</td>\n",
       "      <td>1</td>\n",
       "      <td>9</td>\n",
       "      <td>0.667</td>\n",
       "      <td>0.000</td>\n",
       "      <td>0.333</td>\n",
       "      <td>0.0</td>\n",
       "    </tr>\n",
       "    <tr>\n",
       "      <th>94147</th>\n",
       "      <td>VZHDK5jcwMQuHqyM</td>\n",
       "      <td>2</td>\n",
       "      <td>16</td>\n",
       "      <td>0.375</td>\n",
       "      <td>0.562</td>\n",
       "      <td>0.062</td>\n",
       "      <td>0.0</td>\n",
       "    </tr>\n",
       "  </tbody>\n",
       "</table>\n",
       "</div>"
      ],
      "text/plain": [
       "               password  strength  length  LowerCase Freq  UpperCase Freq  \\\n",
       "68722          waditya1         1       8           0.875           0.000   \n",
       "67003         guille215         1       9           0.667           0.000   \n",
       "81017          kilv1003         1       8           0.500           0.000   \n",
       "62638         kaloqn132         1       9           0.667           0.000   \n",
       "94147  VZHDK5jcwMQuHqyM         2      16           0.375           0.562   \n",
       "\n",
       "       Numeric Freq  Special Freq  \n",
       "68722         0.125           0.0  \n",
       "67003         0.333           0.0  \n",
       "81017         0.500           0.0  \n",
       "62638         0.333           0.0  \n",
       "94147         0.062           0.0  "
      ]
     },
     "execution_count": 56,
     "metadata": {},
     "output_type": "execute_result"
    }
   ],
   "source": [
    "dataframe.head()"
   ]
  },
  {
   "cell_type": "code",
   "execution_count": 57,
   "metadata": {},
   "outputs": [],
   "source": [
    "x = list(dataframe[\"password\"])"
   ]
  },
  {
   "cell_type": "code",
   "execution_count": 58,
   "metadata": {},
   "outputs": [
    {
     "data": {
      "text/plain": [
       "['waditya1',\n",
       " 'guille215',\n",
       " 'kilv1003',\n",
       " 'kaloqn132',\n",
       " 'VZHDK5jcwMQuHqyM',\n",
       " 'kahraman007',\n",
       " 'ar070201',\n",
       " 'dxGoWwTQ3OQl6kob',\n",
       " 'wy198656',\n",
       " 'ludiqkon1201',\n",
       " 'm2392536x',\n",
       " 'evpcklgn38',\n",
       " 'basedatos2',\n",
       " 'MH6671',\n",
       " 'ph022572',\n",
       " '444ppp',\n",
       " 'richaid021099',\n",
       " 'mauro02',\n",
       " 'voazin01',\n",
       " 'b20844',\n",
       " 'E8KXTDTMzOQWbh88',\n",
       " '4y961o05',\n",
       " 'ybileh750',\n",
       " '8bolo8',\n",
       " 'hhfzvlw8ju',\n",
       " 'yxijis621',\n",
       " 'BRRIB4',\n",
       " 'kaya50410',\n",
       " 'vy143625',\n",
       " 'mLsrnfjU2MAq7wQp',\n",
       " 'cochi79',\n",
       " 'blessing01',\n",
       " 'qwert80',\n",
       " 'aaypdp6',\n",
       " 'Enissay997fcbarcelona997',\n",
       " 'donovan280708',\n",
       " '12wd12wd',\n",
       " 'supaplex2013',\n",
       " 'funny18551',\n",
       " 'ahmmzm123',\n",
       " '987654987A',\n",
       " 'loveacdc863',\n",
       " 'ixyxudy789',\n",
       " 'orbitum-terra@971',\n",
       " 'zopiv315',\n",
       " 'x0Y4C0Dk2OAIcsEH',\n",
       " 'new123123',\n",
       " 'mba03040612',\n",
       " 'yog@pamungkas',\n",
       " 'gukaguka7',\n",
       " 'vfrcbv123',\n",
       " 'se75330749',\n",
       " 'y9WIMOTI2MQiJlin',\n",
       " 'islamku1',\n",
       " 'ywowo217',\n",
       " 'maricar13',\n",
       " 'Ibrahim@Ibnawad159753',\n",
       " 'harshpreet909',\n",
       " 'ch18a10n7',\n",
       " 'wappa1023',\n",
       " 'ynayds3',\n",
       " '033oFYHERyPavUS',\n",
       " 'ariqyl449',\n",
       " 'kingdon99',\n",
       " 'on4L97zI2OAx9Of2',\n",
       " 'mojun663',\n",
       " 'england22',\n",
       " 'pachis1',\n",
       " 'oioi12',\n",
       " 'stabb150690',\n",
       " 'balbin2620',\n",
       " 'p97p79m97',\n",
       " '32smart',\n",
       " 'tim80327',\n",
       " 'DIOS12',\n",
       " 'bzw110',\n",
       " 'start15',\n",
       " 'enxcqzh3',\n",
       " 'pyfjdvo5',\n",
       " 'c4hayabokken',\n",
       " 'e8yjyte7o7y',\n",
       " 'nishiwode7',\n",
       " 'ses801205',\n",
       " 'kuntz80',\n",
       " 'DpzLI5Tg0OQQsWpo',\n",
       " 'kalesh05569',\n",
       " 'wuqing_langzi',\n",
       " 'kes3el6e1n',\n",
       " '32jalan',\n",
       " 'Bankruchangbeachresort2010',\n",
       " 'csomad01',\n",
       " 'alah99',\n",
       " 'ohivyno268',\n",
       " '7931502madrid',\n",
       " 'eberyg828',\n",
       " 'vimal12345',\n",
       " 'gvo5zh2j',\n",
       " '2321335asd',\n",
       " '1d70f94d74',\n",
       " 'stagfull1939',\n",
       " 'p3lagr3',\n",
       " 'jokerz101',\n",
       " 'qokivsy428',\n",
       " 'UbUJoFubeBeH439',\n",
       " 'dudals2201',\n",
       " 'diego5',\n",
       " 'trBd6dDg5MwHsHct',\n",
       " 'naruto900',\n",
       " 'kobonova-oksana1A',\n",
       " 'buttons13',\n",
       " 'natureal2005',\n",
       " 'geruqip764',\n",
       " 'xijytob696',\n",
       " '1987HANNA',\n",
       " 'spurs1961',\n",
       " 'ABCDEFG123',\n",
       " 'hamydom1972',\n",
       " 'GbJartTgzOAmcXn7',\n",
       " 'wvxhjcz328',\n",
       " 'hrovatin123',\n",
       " 'top1387654321',\n",
       " 'sqq64ddcz',\n",
       " 'roMU0ETU2NQPaHKw',\n",
       " 'mkookm1',\n",
       " 'hostzack123',\n",
       " 'redress1',\n",
       " 'nosam1',\n",
       " 'morowind1',\n",
       " 'veer11410129',\n",
       " 'JIsikyFENOH059',\n",
       " 'puzzi123lol',\n",
       " 'wyjega870',\n",
       " 'proview73',\n",
       " 'fcuodxln7',\n",
       " 'uedhfitx64',\n",
       " 'kcgames12',\n",
       " 'hung96',\n",
       " 'miazara123',\n",
       " 'snowglobe1',\n",
       " 'verygoodday1',\n",
       " 'max987654321',\n",
       " '123love123',\n",
       " 'kyleiscool1',\n",
       " 'cnsyvljh17',\n",
       " 'sh4l4t',\n",
       " 'jr1998',\n",
       " 'firestorm2',\n",
       " '2KX0nXzQ2NABsHXp',\n",
       " 'mizan1',\n",
       " 'bigvic21',\n",
       " 'xopp233790',\n",
       " '22april',\n",
       " 'teknoworld1',\n",
       " 'pezcado54',\n",
       " 'selma90',\n",
       " 'pf3g38w4',\n",
       " 'flying6121',\n",
       " 'shinigami93',\n",
       " 'jjjlee3',\n",
       " 'uth8rc1',\n",
       " 'kfd041596',\n",
       " 'qu0cd@t10092004',\n",
       " 'cherie015',\n",
       " 'ml1maiTYyMAFMJXM',\n",
       " 'ipimi154',\n",
       " 'persib1933',\n",
       " 'jjeaHrzc0NwgKop3',\n",
       " 'mindy1',\n",
       " 'v3twb5k3kyw6',\n",
       " 'admen666',\n",
       " 'niduvu239',\n",
       " 'fyqupyz701',\n",
       " 'noblem90',\n",
       " 'usysoqo852',\n",
       " 'm19930801',\n",
       " 'ewysem834',\n",
       " 'ST25031983',\n",
       " 'qplerwt79',\n",
       " 'georg1992',\n",
       " '5exka0r',\n",
       " 'oat0812523904',\n",
       " 'bantinhca1',\n",
       " 'mlrsadzhi1',\n",
       " 'tachita1992',\n",
       " 'b4VImXTg2OAjSlId',\n",
       " 'cooking123',\n",
       " 'isma96GUSIBOLIN',\n",
       " 'nilo191992',\n",
       " 'iloveu139',\n",
       " 'ekpzvytcn5',\n",
       " 'marmaris01',\n",
       " 'edv120246',\n",
       " 'dharma69',\n",
       " 'karla89',\n",
       " '3knphxy03l0q',\n",
       " 'mari15',\n",
       " 'InbA0gDMyOArh2Li',\n",
       " 'matrix4940',\n",
       " 's0brasada',\n",
       " 'jc43408381a',\n",
       " 'ver7u7626',\n",
       " 'blinkres12',\n",
       " 'winrea1838',\n",
       " 'overbyte21',\n",
       " 'A1596321A',\n",
       " 'Fo2dY3DU5NgBxMNK',\n",
       " 'tsXd2vDAzMAiRNhI',\n",
       " 'RwwoEGDA3MQokjSo',\n",
       " 'keyna1963',\n",
       " 'konya1997209',\n",
       " 'axuzify955',\n",
       " 'k11331',\n",
       " 'Zagarkolomna123',\n",
       " 'neni1562',\n",
       " 'utamps70e',\n",
       " 'daknong2009',\n",
       " 'bM5b3bcDi24lZb',\n",
       " 'p15041958',\n",
       " 'uZUnUdOmAgOX396',\n",
       " 'skwo23452d',\n",
       " 'Tarapanatip123',\n",
       " 'oju4n6l',\n",
       " 'killer1993',\n",
       " 'quetrola88',\n",
       " 'zzdizel9',\n",
       " 'ohetol101',\n",
       " '1973jj',\n",
       " 'golazo2',\n",
       " '9798208452z',\n",
       " 'srsbsns22',\n",
       " 'zprexva0',\n",
       " 'xv1v64qz',\n",
       " 'otrswg1',\n",
       " 'pd3m3tr1s',\n",
       " 'yondi448pb',\n",
       " 'agowyju291',\n",
       " '285tigEHOfuRyf',\n",
       " 'jztqcxyo617',\n",
       " 'vova186700',\n",
       " '123456789java',\n",
       " 'inuyotaku1007',\n",
       " 'christa2006',\n",
       " 'sefa94',\n",
       " 'kPFCfvzc2MgrzWIc',\n",
       " 'tolik1102',\n",
       " 'p83812757',\n",
       " '09849184peru',\n",
       " 'jung0223',\n",
       " 'k2nch2n',\n",
       " 'holamundo13',\n",
       " 'g02ef2ee3sz5',\n",
       " 'ODORuPYQuMUc193',\n",
       " 'kension12',\n",
       " 'hammad12345',\n",
       " 'smok3stack',\n",
       " 'copper1996',\n",
       " '20ost20kop',\n",
       " 'fff_12345678910@mail.ru',\n",
       " '1554linef',\n",
       " 'AX2LlKTcyMwo9brH',\n",
       " 'main40',\n",
       " 'shekinah5',\n",
       " 'SuperGalaxyBurst7',\n",
       " 'tesim757',\n",
       " 'sevitus86',\n",
       " 'rob1nhood',\n",
       " 'llamas9069',\n",
       " 'cifaxEhEniq702',\n",
       " 'yurarb981',\n",
       " 'xbl7981881',\n",
       " 'massa89',\n",
       " 'gjm666',\n",
       " 'rasta2085',\n",
       " 'sivaslim1',\n",
       " 'yu133978456',\n",
       " 'GG8xjMUegZWZZTzY',\n",
       " 'spookhuis1',\n",
       " 'AhyjBTjgxOQ4cIbU',\n",
       " 'u53i9o6c',\n",
       " 'mau100',\n",
       " 'p3inwXDYxOQWNSn3',\n",
       " 'hommiz76',\n",
       " 'tarou0',\n",
       " 'vlad5205',\n",
       " 'onhltcyz604',\n",
       " 'hfreias123',\n",
       " 'soyazul2',\n",
       " 'alibaba22',\n",
       " 'p987654321',\n",
       " 'yalethe231',\n",
       " 'okwjsvqd3',\n",
       " '1q2a3w4d',\n",
       " 'xyrinu741',\n",
       " 'muvies001',\n",
       " 'iKp17tDQwMAfEnNC',\n",
       " '5r9d9gj2',\n",
       " 'Sinou01234567899510',\n",
       " 'ezipmbtc5',\n",
       " 'sitemail811',\n",
       " 'skater0070',\n",
       " 'fwoiarq85',\n",
       " '24015512ok',\n",
       " 'husgtdqb0',\n",
       " 'imofik502',\n",
       " 'Sxv3xMzgxMwidV8F',\n",
       " 'hera123456',\n",
       " '857025winky',\n",
       " 'noseinear1',\n",
       " 'fucku1010',\n",
       " 'af6g435nb',\n",
       " 'DOB1Surfingdudes',\n",
       " 'n6zn5zy',\n",
       " 'kumaresan123',\n",
       " '36Z5YJjY1OAy42h1',\n",
       " 'NX49NOCM11ZNpkDx',\n",
       " 'mgramos159',\n",
       " 'glme77993',\n",
       " 'jt796395d',\n",
       " 'iQqzY2jQ3MQ8QKbb',\n",
       " 'wolf45',\n",
       " 'yeuwap10',\n",
       " '1997azert',\n",
       " 'jssgrd013',\n",
       " 'emoboy487',\n",
       " 'shbab1masr1',\n",
       " 'lilik6891320',\n",
       " 'yfuzud399',\n",
       " 'dLi06tzEzMwcTLOC',\n",
       " 'ajygije815',\n",
       " 'ypjolrcz0',\n",
       " 'matheusk89',\n",
       " 'guiomar99',\n",
       " '0vb7r9xgd8jr',\n",
       " 'panyCuSyzoDE544',\n",
       " 'indeed2011',\n",
       " 'honkbal123',\n",
       " 'jonalim123',\n",
       " 'osoroli21',\n",
       " 'ujzxyxk8l9od',\n",
       " 'reda45',\n",
       " '555henshin',\n",
       " 'golosas12345',\n",
       " 'fghd15987',\n",
       " '0o27c81op',\n",
       " 'quintero2',\n",
       " 'cvbxndzjw4',\n",
       " 'richie520',\n",
       " 'kungking2054',\n",
       " 'eryfera967',\n",
       " 'arigato3',\n",
       " '9cMG2pzc4MABmguo',\n",
       " 'reclamecds1',\n",
       " 'eeei31o',\n",
       " 'neto24',\n",
       " 'cecati161',\n",
       " 'dunia123',\n",
       " 'ejsk507ottod',\n",
       " 'holaqtal1',\n",
       " '02032003s',\n",
       " 'bhk122bhk',\n",
       " 'emeho490',\n",
       " 'mohamed123456',\n",
       " 'sonnyboy1',\n",
       " 'nomas123',\n",
       " '1516mert',\n",
       " '2558444saw',\n",
       " 'WHANAPUBA45',\n",
       " 'Vivacristorey300686',\n",
       " 'noemi12',\n",
       " 'selezneva.mayya0S',\n",
       " 'cfvbhu8i',\n",
       " 'k1c1d0daj',\n",
       " 'annie11',\n",
       " '231379si',\n",
       " 'pa55web',\n",
       " 'Rcl5xpzUxNgE4oqg',\n",
       " 'vic24278175',\n",
       " 'Vishroliya@Mehul',\n",
       " 'kjajja789',\n",
       " 'eq4tssmur',\n",
       " 'tony91',\n",
       " '8f8zTAzEyMQmrniI',\n",
       " 'melody8595',\n",
       " '99wv54r7',\n",
       " 'hanguk2008',\n",
       " 'linda0110',\n",
       " 'ZZ12345@Aa_Bb_Cc-Dd',\n",
       " 'dsaitzarni48',\n",
       " 'kabanos666',\n",
       " 'zawecad989',\n",
       " 'hnuotak7',\n",
       " 'sd87ds6sd8s',\n",
       " '8rLJ4Qjk1NQdY5q4',\n",
       " 'opbmywsqd817',\n",
       " '16marzo',\n",
       " 'aa09378826934',\n",
       " 'f6vhozyr',\n",
       " 'ZENEN09303',\n",
       " 's14251425s',\n",
       " 'pinon25',\n",
       " 'algoz00',\n",
       " 'cfhgbzl1',\n",
       " 'linh 410',\n",
       " 'myspysoft1',\n",
       " 'o7w5b8r2',\n",
       " 'ewaqed962',\n",
       " 'sebas789',\n",
       " '123456789on',\n",
       " 'zule95',\n",
       " 'ramplax321',\n",
       " 'bimo15',\n",
       " '0853080750nut',\n",
       " '123456selo',\n",
       " '7895123mx',\n",
       " '18-6-86',\n",
       " 'jackson55',\n",
       " 'care37586',\n",
       " 'kmjxszn809',\n",
       " 'sasotis688',\n",
       " 'hacker2442',\n",
       " 'martin8',\n",
       " 'k2max06016854',\n",
       " 'src33vt',\n",
       " 'martinez28',\n",
       " 'EbybowiXymY290',\n",
       " 'jtbdroum6',\n",
       " '19sutar',\n",
       " '8o6uc05eno',\n",
       " 'eusougm20',\n",
       " 'gong198757',\n",
       " 'hcmfrqg516',\n",
       " 'eclipse69',\n",
       " 'onyeukwu59',\n",
       " 'jawmdt86',\n",
       " 'quiru86',\n",
       " 'ea611045',\n",
       " '5v943pvqh',\n",
       " '9JOmyHjQ3MgjSVlw',\n",
       " 'kimlane971',\n",
       " 'cosita1991',\n",
       " 'gb794612',\n",
       " 'longlivem1983',\n",
       " 'ugafaji967',\n",
       " '3gALiyTA0MQbjeCM',\n",
       " 'jorge19912',\n",
       " 'micro201s',\n",
       " 'z46361912',\n",
       " '167WicEwoveKoNI',\n",
       " 'alucard10',\n",
       " 'vi68vipe',\n",
       " 'edugev12',\n",
       " 'nicklov3rbl@ck',\n",
       " 'satyarth123',\n",
       " 'pedro1291',\n",
       " 'mell168888',\n",
       " 'pakistan0300',\n",
       " 'eng3500motion',\n",
       " 'marcos2105',\n",
       " 'adnet2008',\n",
       " '17Martina20077872764',\n",
       " '5rtp4uc',\n",
       " 'mkrs8052',\n",
       " 'coolman23',\n",
       " '948IQeVurAWELIB',\n",
       " 'melike2',\n",
       " 'bwoo1230',\n",
       " 'qadonyja10',\n",
       " '3pl3k3ny3s',\n",
       " 'locomotora10',\n",
       " 'aulia64',\n",
       " '142380ushrvd',\n",
       " 'sm00thgoal',\n",
       " 'ahutit335',\n",
       " 'bdg160573',\n",
       " '4t7owul',\n",
       " 'jcf214985',\n",
       " 'reso064nance',\n",
       " 'tvarkarastis1',\n",
       " 'aqswde1739',\n",
       " 'nyyppis137',\n",
       " 'andres5321',\n",
       " 'jordana367',\n",
       " 'p7536987qsxdr5!@',\n",
       " 'knopka11',\n",
       " '348LH8zM4OAOcmsW',\n",
       " 'j8ngjsd',\n",
       " 'FranzOverlord123',\n",
       " 'vin100',\n",
       " 'jb30882109',\n",
       " 'd13091963',\n",
       " 'vince2andre',\n",
       " 'p2o52p5o',\n",
       " 'tunaphish$$$',\n",
       " 'anysup289',\n",
       " 'saga1402',\n",
       " 'vn136189',\n",
       " 'wesam123',\n",
       " 'sh1roneko',\n",
       " 'compaq2217',\n",
       " 'bala1234',\n",
       " 'mary1986',\n",
       " 'misemu808',\n",
       " 'ninjiman1',\n",
       " 'oryran629',\n",
       " 'lahuca9',\n",
       " 'beca20',\n",
       " 'exuckdhr98',\n",
       " 'elephant2011',\n",
       " 'bojidan32',\n",
       " 'balai3000',\n",
       " 'vezun279',\n",
       " 'eon1g2ay72',\n",
       " 'ds4sd4',\n",
       " 'valdunquillo123-',\n",
       " 'agoh55ps',\n",
       " 'fuck0i0',\n",
       " '503429skt',\n",
       " '2j8f3d7s',\n",
       " 'igizuvy844',\n",
       " 'imlou7ls',\n",
       " 'wati1987',\n",
       " 'macandnomi1',\n",
       " 'MoVYM8DU5MQdj0lQ',\n",
       " 'buffyg23',\n",
       " 'yfzjwph68',\n",
       " 'misike01',\n",
       " 'abb6qmkc',\n",
       " 'gwsup3r',\n",
       " '71yip85p',\n",
       " 'alella07',\n",
       " 'oyeiloveyou2',\n",
       " 'tab7x2u',\n",
       " 'woavyfb403',\n",
       " 'ydyhedo680',\n",
       " 'cjtfuir47',\n",
       " 'szajs1',\n",
       " 'rfcldxpjv864',\n",
       " 'tyzev592',\n",
       " '05369424276a',\n",
       " 'zzl064372',\n",
       " 'corz2607',\n",
       " 'salud4',\n",
       " '77800073c',\n",
       " '436AzYnYLEmAGEp',\n",
       " '443ks0u0',\n",
       " '73737pekap18',\n",
       " 'pmu290579',\n",
       " 'nano33',\n",
       " 'sybaho588',\n",
       " 'speed10',\n",
       " 'pato2408',\n",
       " '62h3iz15',\n",
       " 'xxxaaasss123',\n",
       " 'mxflkcwbu40',\n",
       " '3n5fi2ep4p3si',\n",
       " 'polvoz+',\n",
       " 'yotinzaa191',\n",
       " 'moonie666',\n",
       " '123katharsis',\n",
       " 'knqr51a',\n",
       " 'BLchEUzM4NwJ9Cvp',\n",
       " 'vania246812',\n",
       " 'redribbon8',\n",
       " 'rotaw286',\n",
       " 'merlin4eva',\n",
       " 'jonnyd123',\n",
       " 'mankiastam1',\n",
       " 'azman24',\n",
       " 'teste23',\n",
       " 'CHbFPrjYzMwQMN6A',\n",
       " 'multimedia99',\n",
       " 'kevinos07',\n",
       " 'ujyve322',\n",
       " 'uxise709',\n",
       " 'DUYRJszQ4MAHXIYG',\n",
       " 'gokim851',\n",
       " 'gfhjkm12',\n",
       " 'rviq7ea',\n",
       " '27913709a',\n",
       " 'zg775b6n',\n",
       " 'slava1488',\n",
       " 'baiyun6024',\n",
       " 'baloran123',\n",
       " 'soza7um',\n",
       " 'zainalbidar65',\n",
       " '845230yan',\n",
       " 'mctnzeup1',\n",
       " 'parth181195',\n",
       " '100priest',\n",
       " 'sis900bl33',\n",
       " 'avequv664',\n",
       " '3025056vi',\n",
       " 'solotone1',\n",
       " 'Sharifaakterlovelysal19961995',\n",
       " 'scarley31',\n",
       " 'chloe44',\n",
       " 'tzazot1',\n",
       " 'thelma012',\n",
       " 'paravan6565',\n",
       " '0958747424quy',\n",
       " 'ajebuci488',\n",
       " 'senen15787',\n",
       " 'mariposa23',\n",
       " 'm47osak11y',\n",
       " 'ohmydior88',\n",
       " '41dp5gwy',\n",
       " 'kesadaran99',\n",
       " 'liondogrobot1',\n",
       " 'p3nis5',\n",
       " 'bestmen46',\n",
       " '884ekyCeXameNO',\n",
       " 'axlyslash87',\n",
       " 'spiller22',\n",
       " 'y8fb3t3r',\n",
       " 'sergen12',\n",
       " 'd3tfelipe',\n",
       " 'werekita26',\n",
       " 'orehyno234',\n",
       " 'heqvio8',\n",
       " 'rikimiki22',\n",
       " 'ouuxas9qwcly',\n",
       " 'specas1798',\n",
       " 'malvinas1',\n",
       " 'juntero24',\n",
       " 'promise123',\n",
       " 'senha33',\n",
       " 'morbeo80',\n",
       " 'alin15',\n",
       " 'angel25',\n",
       " 'degenr8',\n",
       " 'uochdykv421',\n",
       " 'kagome22',\n",
       " 'y2p215o5',\n",
       " 'iqeky894',\n",
       " 'octubredel88',\n",
       " 'z01234458',\n",
       " '0AqdBhjYyNA7Kh4a',\n",
       " 'HGVYTVyhtv565654',\n",
       " 'vq15v34n',\n",
       " 'avalon1',\n",
       " 'cseyptjl7',\n",
       " 'bocoryj688',\n",
       " '34442797mocho',\n",
       " '89bbfgghii',\n",
       " 'godeeeee123',\n",
       " 'qubenbo24',\n",
       " '0323ZZ1984',\n",
       " 'sherekahn1984',\n",
       " 'Nityavallee24*',\n",
       " 'we251120',\n",
       " 'jhunter02',\n",
       " 'arditadili1',\n",
       " 'ariani2008',\n",
       " 'ifqnfyfvf123',\n",
       " 'kyle2000',\n",
       " 'worinima74',\n",
       " 'SFV2lvTI0MwYlPO1',\n",
       " 'yufei1019',\n",
       " 'yangzhi579415',\n",
       " 'ingat123',\n",
       " 'lei837nb',\n",
       " 'qzAcTHTA4NQCiWQl',\n",
       " 'rHanim72535246',\n",
       " 'escada0211',\n",
       " 'xwmbfpw6',\n",
       " 'aa5611021',\n",
       " 's22701378',\n",
       " 'hou18k',\n",
       " '1986graha',\n",
       " 'giantman77',\n",
       " 'krissmile1007',\n",
       " 'anminsi8',\n",
       " 'tony18',\n",
       " 'ymutyg358',\n",
       " 'cotini8',\n",
       " 'l1GH0xMtKenz7km',\n",
       " 'oyun12345',\n",
       " 'ql604kfqr',\n",
       " 'i7BdkETcxMgLYnVn',\n",
       " 'ekyke958',\n",
       " 'si33990666',\n",
       " 'batalau123',\n",
       " 'maderita12',\n",
       " 'mochomo11',\n",
       " 'aslam786',\n",
       " 'MNWLQzzQ0OQU8Xhj',\n",
       " 'arenamasters1',\n",
       " 'guitar461',\n",
       " 'rECibazY1NAokyKL',\n",
       " 'epoturu272',\n",
       " 'zzzzzz7',\n",
       " 'next1234',\n",
       " 's82238223',\n",
       " 'ohulyfu674',\n",
       " 'qwe603ten064',\n",
       " '111991mark',\n",
       " '013520wh',\n",
       " 'k4ai4y7j',\n",
       " 'vqnjcmr82',\n",
       " 'wr6n2HzA4NwDm525',\n",
       " 'sp-ace-kees',\n",
       " 'kazusir02',\n",
       " 'kurt69',\n",
       " 'lxy886617',\n",
       " '9278862k',\n",
       " 'lol0123456',\n",
       " 'orrenszom12',\n",
       " 'mopamopa77',\n",
       " 'massissa1',\n",
       " 'jaya1981',\n",
       " 'japierdole1',\n",
       " '24mki1j3',\n",
       " 'bdydrp1',\n",
       " 'divqnosu8',\n",
       " 'VIHARI123',\n",
       " 'chambo1',\n",
       " 'SISPANJI2010',\n",
       " 'gouveinfo@2012',\n",
       " 'gracezell1',\n",
       " 'pogopo662',\n",
       " 'mayank77492',\n",
       " 'vcd3hlsmo4hl',\n",
       " '0167bablu',\n",
       " 'pvqaxdf71',\n",
       " 'cdwqbevp18',\n",
       " 'joost1',\n",
       " 'EoP7LGjA3NA9dHOy',\n",
       " 'bunhead999',\n",
       " 'M9kaQ6Tk2OAz1UEv',\n",
       " 'hardwill6969',\n",
       " 'imc626739',\n",
       " '4hb66nsm',\n",
       " 'master22',\n",
       " 'kymiqf7i',\n",
       " '5862taiyu',\n",
       " 'iqoly5y7a88',\n",
       " 'QoPOxEmixIJ538',\n",
       " 'vuongtungetu8',\n",
       " 'GLEAHnerves0219',\n",
       " 'Wu5PNnzc2MQAWzvV',\n",
       " 'nitxfx82',\n",
       " 'aminas8',\n",
       " '222everyday',\n",
       " 'houston11',\n",
       " 'edikwpv951',\n",
       " 'yhare115',\n",
       " 'u7003s55l',\n",
       " 'g14031977',\n",
       " '5235mc106569',\n",
       " 'j3imgz3nil',\n",
       " '000web1987',\n",
       " 'talibanman1',\n",
       " '000webhost',\n",
       " 'jXdYK1Tc4Mwq7Ljm',\n",
       " 'bchb3dn5pax7',\n",
       " 'rchjolorper1',\n",
       " 'vulewy379',\n",
       " 'PSukvmDg2OAwmZ1Q',\n",
       " 'plejhaus23',\n",
       " 'p5aq3yv6e',\n",
       " 'satria700',\n",
       " 'spirit777',\n",
       " 'nense1',\n",
       " 'mbochti95',\n",
       " 'sammut3358',\n",
       " 'momomomo12',\n",
       " '230491jar',\n",
       " 'delali1982',\n",
       " 'montoya1977',\n",
       " 'pop123456',\n",
       " 'oqogeh689',\n",
       " 'a030980w',\n",
       " 'leaba1112',\n",
       " '12ford12',\n",
       " 'pg210619',\n",
       " 'joni789521',\n",
       " 'america1578',\n",
       " 'jejujy123',\n",
       " 'whatever87',\n",
       " 'zontrox11',\n",
       " 'ewelina12',\n",
       " 'iMugEvAdaXoZ618',\n",
       " 'ysavufu774',\n",
       " 'jcc00484xeol',\n",
       " '0hannah0',\n",
       " 'mimimax123',\n",
       " 'jool21',\n",
       " 'soriano32',\n",
       " 'idap1956',\n",
       " 'nabire101082',\n",
       " 'd9iywo8',\n",
       " 'london11111',\n",
       " 'vivi030189',\n",
       " 'elsq3o8h',\n",
       " 'axyfe129',\n",
       " 'sarina1',\n",
       " 'xyvub901',\n",
       " 'bpAK1KDUxMw4GER0',\n",
       " 'jacem1860',\n",
       " 'blomnrjsh40',\n",
       " 'mati42',\n",
       " 'estacato77',\n",
       " 'hulye00',\n",
       " '1968368pan',\n",
       " 'cheremis23',\n",
       " 'kelldesp1239',\n",
       " 'babas0pa',\n",
       " 'topline3031',\n",
       " 'apolo42',\n",
       " 'sebas42021040',\n",
       " 'bywetus724',\n",
       " 'picpoc123',\n",
       " '803bYDABEPEjep',\n",
       " 'gupyla207',\n",
       " 'dehbi7648',\n",
       " 'bb00000',\n",
       " 'osck00',\n",
       " 'caravans97',\n",
       " 'niqir641',\n",
       " 'hola_kaki',\n",
       " 'hum248546',\n",
       " 'bazevega6',\n",
       " 'Hisanthoshjasika0',\n",
       " 'trixie621',\n",
       " 'demoz1993',\n",
       " 'artolaslo0ol',\n",
       " 'y89h025p',\n",
       " 'delgadillo17',\n",
       " 'ujugow254',\n",
       " '3073gleyda',\n",
       " 'rob75122609',\n",
       " 'phishy88',\n",
       " 'yo4486008',\n",
       " 'maxpetrov3',\n",
       " 'WYJ2310449369*',\n",
       " 'radiomaster9',\n",
       " 'memosali4565',\n",
       " 'herminia1',\n",
       " 'udigkeoxr624',\n",
       " 'amelia12',\n",
       " 'uob3ovnw',\n",
       " 'xiruny487',\n",
       " 'KHSjo3DUzOQmJdeQ',\n",
       " 'compusa1',\n",
       " 'ojancano1',\n",
       " 'xonan11',\n",
       " 'jua190882',\n",
       " 'mihil2005',\n",
       " 'fierking32',\n",
       " 'pja103435',\n",
       " 'jorginho1',\n",
       " 'peti22',\n",
       " 'ag8com',\n",
       " 'llkk890230',\n",
       " 'sayangabi1',\n",
       " '1987aska',\n",
       " 'moquette13',\n",
       " 'ur7n2et',\n",
       " 'killerke55',\n",
       " 'lord556655',\n",
       " 'icejati785',\n",
       " 'sahabat030191',\n",
       " 'katsap1',\n",
       " 'WeckntzM2MQNUBPF',\n",
       " 'vakilova01',\n",
       " 'unevew301',\n",
       " 'buta19',\n",
       " 'eMq9T5Tg4MQF6l7s',\n",
       " 'mjchen3649',\n",
       " '00beach15',\n",
       " 'aaa332233',\n",
       " 'exysy465',\n",
       " 'vysot594',\n",
       " 'pasha593',\n",
       " 'reptil0',\n",
       " 'germix24',\n",
       " 'RTP14DKP6',\n",
       " 'nguyet20',\n",
       " 'icefuvi552',\n",
       " 'christiane12',\n",
       " 'PIJYfYmyrEH164',\n",
       " 'aPLI2LjMwOQyoG1m',\n",
       " 'islote64',\n",
       " 'varewuv451',\n",
       " '10Eht1lnng21fy',\n",
       " 'tibur28',\n",
       " 'a154597375',\n",
       " 'zoi101252',\n",
       " 'gustavo65',\n",
       " 'holasonso123',\n",
       " 'HOSTyukie12345',\n",
       " 'rjxcfnk621',\n",
       " 'deutsche01',\n",
       " 'wbrlhog052',\n",
       " 'qd10089lj',\n",
       " 'a6a9o9e5u',\n",
       " 'okypy917',\n",
       " 'efijuka211',\n",
       " 'thunderkiss65',\n",
       " 'gedy1234',\n",
       " '6i2ow6juk7',\n",
       " 'fbzxwPzU4OA8xDgo',\n",
       " 'tigatiga3',\n",
       " 'l3tm31nn0w',\n",
       " 'YtumIWOLasaV301',\n",
       " 'vorakit080',\n",
       " 'a20054563',\n",
       " 'salah39803110',\n",
       " 'zarkod2751',\n",
       " 'zgrahcn57',\n",
       " 'd3phi3',\n",
       " '1020aa',\n",
       " 'cyxaci377',\n",
       " 'ih4e4sm',\n",
       " 'uDHppbjY2MgsR4sE',\n",
       " 'lplzameer123',\n",
       " 'teecee123456',\n",
       " '123456amor',\n",
       " 'wdHE3AqAyaBiUl7',\n",
       " '34rtgbbgfr',\n",
       " 'spacescout0',\n",
       " 'zobiraj13',\n",
       " 'micubisi10',\n",
       " 'kaiomarin12',\n",
       " 'halas123',\n",
       " '7BZqXhzEyMAPF2Iz',\n",
       " 'lq1hug7',\n",
       " 'xezunyfo5',\n",
       " 'BtAMtCTM0MAzdKXZ',\n",
       " 'ibonom900516311***',\n",
       " 'cuheadx123',\n",
       " 'wowh6ia',\n",
       " 'rolex123',\n",
       " 't5e74054',\n",
       " 'joxylo688',\n",
       " 'klvsumh53',\n",
       " 'karen9695',\n",
       " 'hukjwm1w10',\n",
       " 'penaburblogp5',\n",
       " 'ahzhuxixi327',\n",
       " 'j3nkoff',\n",
       " 'abczxviq1',\n",
       " 'xebcjgmt49',\n",
       " 'G.et@pAss.word',\n",
       " '1969yomi',\n",
       " 'merongirma1',\n",
       " 'kosong2008',\n",
       " 'lenonxlt20',\n",
       " 'prwadjs186',\n",
       " 'diego1210',\n",
       " 'U9m983zkxMARPe2V',\n",
       " 'pmahc30',\n",
       " 'GOgkseTU5NQufeYr',\n",
       " 'gnjkhym51',\n",
       " 'ranim94',\n",
       " 'JV3w33Dg3OAhZyAX',\n",
       " 'katerinochkina-marianna3C',\n",
       " 'uftpre4',\n",
       " 'serk5620',\n",
       " 'qwertz654321',\n",
       " '123456kkk',\n",
       " 'rat3yfqf',\n",
       " '220606natya',\n",
       " 'ocahyby212',\n",
       " '085XyvAKuqefiPe',\n",
       " 'gracy9',\n",
       " 'tysiadlo18',\n",
       " 'SFF9hlTk0NwlXHK2',\n",
       " '680c77cda9',\n",
       " 'Snipermaster1984',\n",
       " 'secreta2',\n",
       " 'gost6969',\n",
       " 'mayuunia3',\n",
       " 'renaki24',\n",
       " 'FmJGrcjUwNw8bpZ0',\n",
       " 'chiantie1984',\n",
       " '9115007as',\n",
       " 'ponofe8',\n",
       " 'randy236',\n",
       " 'gigopys634',\n",
       " '6nerpadub',\n",
       " 'p2urezu5g',\n",
       " 'tocinyv686',\n",
       " 'ERZ6V4DkwOQXHkZA',\n",
       " 'surfas.lt068404',\n",
       " 'funkeys11',\n",
       " 'walo34',\n",
       " 'samaki1988',\n",
       " 'adlina3256',\n",
       " 'bamissohot1',\n",
       " 'jr009286c',\n",
       " 'casados2013',\n",
       " 'aac011010',\n",
       " '145a122482',\n",
       " 'olukof609',\n",
       " 'v430v37m',\n",
       " 'okinawa1',\n",
       " 'karthik143',\n",
       " 'VjhYZJzgzNggIR54',\n",
       " 'fubuki512',\n",
       " ...]"
      ]
     },
     "execution_count": 58,
     "metadata": {},
     "output_type": "execute_result"
    }
   ],
   "source": [
    "x"
   ]
  },
  {
   "cell_type": "code",
   "execution_count": 59,
   "metadata": {},
   "outputs": [],
   "source": [
    "from sklearn.feature_extraction.text import TfidfVectorizer\n"
   ]
  },
  {
   "cell_type": "code",
   "execution_count": 62,
   "metadata": {},
   "outputs": [],
   "source": [
    "vectorizer = TfidfVectorizer(analyzer = \"char\")"
   ]
  },
  {
   "cell_type": "code",
   "execution_count": 63,
   "metadata": {},
   "outputs": [],
   "source": [
    "X = vectorizer.fit_transform(x)"
   ]
  },
  {
   "cell_type": "code",
   "execution_count": 64,
   "metadata": {},
   "outputs": [
    {
     "data": {
      "text/plain": [
       "<100000x99 sparse matrix of type '<class 'numpy.float64'>'\n",
       "\twith 842571 stored elements in Compressed Sparse Row format>"
      ]
     },
     "execution_count": 64,
     "metadata": {},
     "output_type": "execute_result"
    }
   ],
   "source": [
    "X\n"
   ]
  },
  {
   "cell_type": "code",
   "execution_count": 65,
   "metadata": {},
   "outputs": [
    {
     "data": {
      "text/plain": [
       "(100000, 99)"
      ]
     },
     "execution_count": 65,
     "metadata": {},
     "output_type": "execute_result"
    }
   ],
   "source": [
    "X.shape"
   ]
  },
  {
   "cell_type": "code",
   "execution_count": 66,
   "metadata": {},
   "outputs": [
    {
     "data": {
      "text/plain": [
       "array([[0., 0., 0., ..., 0., 0., 0.],\n",
       "       [0., 0., 0., ..., 0., 0., 0.],\n",
       "       [0., 0., 0., ..., 0., 0., 0.],\n",
       "       ...,\n",
       "       [0., 0., 0., ..., 0., 0., 0.],\n",
       "       [0., 0., 0., ..., 0., 0., 0.],\n",
       "       [0., 0., 0., ..., 0., 0., 0.]])"
      ]
     },
     "execution_count": 66,
     "metadata": {},
     "output_type": "execute_result"
    }
   ],
   "source": [
    "X.toarray()"
   ]
  },
  {
   "cell_type": "code",
   "execution_count": 67,
   "metadata": {},
   "outputs": [
    {
     "data": {
      "text/plain": [
       "array(['\\x04', '\\x06', '\\x08', '\\x0e', '\\x10', '\\x11', '\\x17', ' ', '!',\n",
       "       '#', '$', '%', '&', '(', ')', '*', '+', '-', '.', '/', '0', '1',\n",
       "       '2', '3', '4', '5', '6', '7', '8', '9', ';', '<', '=', '>', '?',\n",
       "       '@', '[', '\\\\', ']', '^', '_', '`', 'a', 'b', 'c', 'd', 'e', 'f',\n",
       "       'g', 'h', 'i', 'j', 'k', 'l', 'm', 'n', 'o', 'p', 'q', 'r', 's',\n",
       "       't', 'u', 'v', 'w', 'x', 'y', 'z', '{', '|', '}', '~', '¡', '¨',\n",
       "       '°', '±', '³', '´', 'µ', '·', 'ß', 'à', 'á', 'ä', 'æ', 'ç', 'é',\n",
       "       'ê', 'í', 'ñ', 'ó', 'õ', 'ö', '÷', 'ú', 'ü', 'ý', 'þ', '›'],\n",
       "      dtype=object)"
      ]
     },
     "execution_count": 67,
     "metadata": {},
     "output_type": "execute_result"
    }
   ],
   "source": [
    "vectorizer.get_feature_names_out()"
   ]
  },
  {
   "cell_type": "code",
   "execution_count": 68,
   "metadata": {},
   "outputs": [],
   "source": [
    "df2 = pd.DataFrame(X.toarray() , columns=vectorizer.get_feature_names_out())"
   ]
  },
  {
   "cell_type": "code",
   "execution_count": 69,
   "metadata": {},
   "outputs": [
    {
     "data": {
      "text/html": [
       "<div>\n",
       "<style scoped>\n",
       "    .dataframe tbody tr th:only-of-type {\n",
       "        vertical-align: middle;\n",
       "    }\n",
       "\n",
       "    .dataframe tbody tr th {\n",
       "        vertical-align: top;\n",
       "    }\n",
       "\n",
       "    .dataframe thead th {\n",
       "        text-align: right;\n",
       "    }\n",
       "</style>\n",
       "<table border=\"1\" class=\"dataframe\">\n",
       "  <thead>\n",
       "    <tr style=\"text-align: right;\">\n",
       "      <th></th>\n",
       "      <th>\u0004</th>\n",
       "      <th>\u0006</th>\n",
       "      <th>\b</th>\n",
       "      <th>\u000e</th>\n",
       "      <th>\u0010</th>\n",
       "      <th>\u0011</th>\n",
       "      <th>\u0017</th>\n",
       "      <th></th>\n",
       "      <th>!</th>\n",
       "      <th>#</th>\n",
       "      <th>...</th>\n",
       "      <th>ñ</th>\n",
       "      <th>ó</th>\n",
       "      <th>õ</th>\n",
       "      <th>ö</th>\n",
       "      <th>÷</th>\n",
       "      <th>ú</th>\n",
       "      <th>ü</th>\n",
       "      <th>ý</th>\n",
       "      <th>þ</th>\n",
       "      <th>›</th>\n",
       "    </tr>\n",
       "  </thead>\n",
       "  <tbody>\n",
       "    <tr>\n",
       "      <th>0</th>\n",
       "      <td>0.0</td>\n",
       "      <td>0.0</td>\n",
       "      <td>0.0</td>\n",
       "      <td>0.0</td>\n",
       "      <td>0.0</td>\n",
       "      <td>0.0</td>\n",
       "      <td>0.0</td>\n",
       "      <td>0.0</td>\n",
       "      <td>0.0</td>\n",
       "      <td>0.0</td>\n",
       "      <td>...</td>\n",
       "      <td>0.0</td>\n",
       "      <td>0.0</td>\n",
       "      <td>0.0</td>\n",
       "      <td>0.0</td>\n",
       "      <td>0.0</td>\n",
       "      <td>0.0</td>\n",
       "      <td>0.0</td>\n",
       "      <td>0.0</td>\n",
       "      <td>0.0</td>\n",
       "      <td>0.0</td>\n",
       "    </tr>\n",
       "    <tr>\n",
       "      <th>1</th>\n",
       "      <td>0.0</td>\n",
       "      <td>0.0</td>\n",
       "      <td>0.0</td>\n",
       "      <td>0.0</td>\n",
       "      <td>0.0</td>\n",
       "      <td>0.0</td>\n",
       "      <td>0.0</td>\n",
       "      <td>0.0</td>\n",
       "      <td>0.0</td>\n",
       "      <td>0.0</td>\n",
       "      <td>...</td>\n",
       "      <td>0.0</td>\n",
       "      <td>0.0</td>\n",
       "      <td>0.0</td>\n",
       "      <td>0.0</td>\n",
       "      <td>0.0</td>\n",
       "      <td>0.0</td>\n",
       "      <td>0.0</td>\n",
       "      <td>0.0</td>\n",
       "      <td>0.0</td>\n",
       "      <td>0.0</td>\n",
       "    </tr>\n",
       "    <tr>\n",
       "      <th>2</th>\n",
       "      <td>0.0</td>\n",
       "      <td>0.0</td>\n",
       "      <td>0.0</td>\n",
       "      <td>0.0</td>\n",
       "      <td>0.0</td>\n",
       "      <td>0.0</td>\n",
       "      <td>0.0</td>\n",
       "      <td>0.0</td>\n",
       "      <td>0.0</td>\n",
       "      <td>0.0</td>\n",
       "      <td>...</td>\n",
       "      <td>0.0</td>\n",
       "      <td>0.0</td>\n",
       "      <td>0.0</td>\n",
       "      <td>0.0</td>\n",
       "      <td>0.0</td>\n",
       "      <td>0.0</td>\n",
       "      <td>0.0</td>\n",
       "      <td>0.0</td>\n",
       "      <td>0.0</td>\n",
       "      <td>0.0</td>\n",
       "    </tr>\n",
       "    <tr>\n",
       "      <th>3</th>\n",
       "      <td>0.0</td>\n",
       "      <td>0.0</td>\n",
       "      <td>0.0</td>\n",
       "      <td>0.0</td>\n",
       "      <td>0.0</td>\n",
       "      <td>0.0</td>\n",
       "      <td>0.0</td>\n",
       "      <td>0.0</td>\n",
       "      <td>0.0</td>\n",
       "      <td>0.0</td>\n",
       "      <td>...</td>\n",
       "      <td>0.0</td>\n",
       "      <td>0.0</td>\n",
       "      <td>0.0</td>\n",
       "      <td>0.0</td>\n",
       "      <td>0.0</td>\n",
       "      <td>0.0</td>\n",
       "      <td>0.0</td>\n",
       "      <td>0.0</td>\n",
       "      <td>0.0</td>\n",
       "      <td>0.0</td>\n",
       "    </tr>\n",
       "    <tr>\n",
       "      <th>4</th>\n",
       "      <td>0.0</td>\n",
       "      <td>0.0</td>\n",
       "      <td>0.0</td>\n",
       "      <td>0.0</td>\n",
       "      <td>0.0</td>\n",
       "      <td>0.0</td>\n",
       "      <td>0.0</td>\n",
       "      <td>0.0</td>\n",
       "      <td>0.0</td>\n",
       "      <td>0.0</td>\n",
       "      <td>...</td>\n",
       "      <td>0.0</td>\n",
       "      <td>0.0</td>\n",
       "      <td>0.0</td>\n",
       "      <td>0.0</td>\n",
       "      <td>0.0</td>\n",
       "      <td>0.0</td>\n",
       "      <td>0.0</td>\n",
       "      <td>0.0</td>\n",
       "      <td>0.0</td>\n",
       "      <td>0.0</td>\n",
       "    </tr>\n",
       "    <tr>\n",
       "      <th>...</th>\n",
       "      <td>...</td>\n",
       "      <td>...</td>\n",
       "      <td>...</td>\n",
       "      <td>...</td>\n",
       "      <td>...</td>\n",
       "      <td>...</td>\n",
       "      <td>...</td>\n",
       "      <td>...</td>\n",
       "      <td>...</td>\n",
       "      <td>...</td>\n",
       "      <td>...</td>\n",
       "      <td>...</td>\n",
       "      <td>...</td>\n",
       "      <td>...</td>\n",
       "      <td>...</td>\n",
       "      <td>...</td>\n",
       "      <td>...</td>\n",
       "      <td>...</td>\n",
       "      <td>...</td>\n",
       "      <td>...</td>\n",
       "      <td>...</td>\n",
       "    </tr>\n",
       "    <tr>\n",
       "      <th>99995</th>\n",
       "      <td>0.0</td>\n",
       "      <td>0.0</td>\n",
       "      <td>0.0</td>\n",
       "      <td>0.0</td>\n",
       "      <td>0.0</td>\n",
       "      <td>0.0</td>\n",
       "      <td>0.0</td>\n",
       "      <td>0.0</td>\n",
       "      <td>0.0</td>\n",
       "      <td>0.0</td>\n",
       "      <td>...</td>\n",
       "      <td>0.0</td>\n",
       "      <td>0.0</td>\n",
       "      <td>0.0</td>\n",
       "      <td>0.0</td>\n",
       "      <td>0.0</td>\n",
       "      <td>0.0</td>\n",
       "      <td>0.0</td>\n",
       "      <td>0.0</td>\n",
       "      <td>0.0</td>\n",
       "      <td>0.0</td>\n",
       "    </tr>\n",
       "    <tr>\n",
       "      <th>99996</th>\n",
       "      <td>0.0</td>\n",
       "      <td>0.0</td>\n",
       "      <td>0.0</td>\n",
       "      <td>0.0</td>\n",
       "      <td>0.0</td>\n",
       "      <td>0.0</td>\n",
       "      <td>0.0</td>\n",
       "      <td>0.0</td>\n",
       "      <td>0.0</td>\n",
       "      <td>0.0</td>\n",
       "      <td>...</td>\n",
       "      <td>0.0</td>\n",
       "      <td>0.0</td>\n",
       "      <td>0.0</td>\n",
       "      <td>0.0</td>\n",
       "      <td>0.0</td>\n",
       "      <td>0.0</td>\n",
       "      <td>0.0</td>\n",
       "      <td>0.0</td>\n",
       "      <td>0.0</td>\n",
       "      <td>0.0</td>\n",
       "    </tr>\n",
       "    <tr>\n",
       "      <th>99997</th>\n",
       "      <td>0.0</td>\n",
       "      <td>0.0</td>\n",
       "      <td>0.0</td>\n",
       "      <td>0.0</td>\n",
       "      <td>0.0</td>\n",
       "      <td>0.0</td>\n",
       "      <td>0.0</td>\n",
       "      <td>0.0</td>\n",
       "      <td>0.0</td>\n",
       "      <td>0.0</td>\n",
       "      <td>...</td>\n",
       "      <td>0.0</td>\n",
       "      <td>0.0</td>\n",
       "      <td>0.0</td>\n",
       "      <td>0.0</td>\n",
       "      <td>0.0</td>\n",
       "      <td>0.0</td>\n",
       "      <td>0.0</td>\n",
       "      <td>0.0</td>\n",
       "      <td>0.0</td>\n",
       "      <td>0.0</td>\n",
       "    </tr>\n",
       "    <tr>\n",
       "      <th>99998</th>\n",
       "      <td>0.0</td>\n",
       "      <td>0.0</td>\n",
       "      <td>0.0</td>\n",
       "      <td>0.0</td>\n",
       "      <td>0.0</td>\n",
       "      <td>0.0</td>\n",
       "      <td>0.0</td>\n",
       "      <td>0.0</td>\n",
       "      <td>0.0</td>\n",
       "      <td>0.0</td>\n",
       "      <td>...</td>\n",
       "      <td>0.0</td>\n",
       "      <td>0.0</td>\n",
       "      <td>0.0</td>\n",
       "      <td>0.0</td>\n",
       "      <td>0.0</td>\n",
       "      <td>0.0</td>\n",
       "      <td>0.0</td>\n",
       "      <td>0.0</td>\n",
       "      <td>0.0</td>\n",
       "      <td>0.0</td>\n",
       "    </tr>\n",
       "    <tr>\n",
       "      <th>99999</th>\n",
       "      <td>0.0</td>\n",
       "      <td>0.0</td>\n",
       "      <td>0.0</td>\n",
       "      <td>0.0</td>\n",
       "      <td>0.0</td>\n",
       "      <td>0.0</td>\n",
       "      <td>0.0</td>\n",
       "      <td>0.0</td>\n",
       "      <td>0.0</td>\n",
       "      <td>0.0</td>\n",
       "      <td>...</td>\n",
       "      <td>0.0</td>\n",
       "      <td>0.0</td>\n",
       "      <td>0.0</td>\n",
       "      <td>0.0</td>\n",
       "      <td>0.0</td>\n",
       "      <td>0.0</td>\n",
       "      <td>0.0</td>\n",
       "      <td>0.0</td>\n",
       "      <td>0.0</td>\n",
       "      <td>0.0</td>\n",
       "    </tr>\n",
       "  </tbody>\n",
       "</table>\n",
       "<p>100000 rows × 99 columns</p>\n",
       "</div>"
      ],
      "text/plain": [
       "         \u0004    \u0006    \b    \u000e    \u0010    \u0011    \u0017         !    #  ...    ñ    ó    õ  \\\n",
       "0      0.0  0.0  0.0  0.0  0.0  0.0  0.0  0.0  0.0  0.0  ...  0.0  0.0  0.0   \n",
       "1      0.0  0.0  0.0  0.0  0.0  0.0  0.0  0.0  0.0  0.0  ...  0.0  0.0  0.0   \n",
       "2      0.0  0.0  0.0  0.0  0.0  0.0  0.0  0.0  0.0  0.0  ...  0.0  0.0  0.0   \n",
       "3      0.0  0.0  0.0  0.0  0.0  0.0  0.0  0.0  0.0  0.0  ...  0.0  0.0  0.0   \n",
       "4      0.0  0.0  0.0  0.0  0.0  0.0  0.0  0.0  0.0  0.0  ...  0.0  0.0  0.0   \n",
       "...    ...  ...  ...  ...  ...  ...  ...  ...  ...  ...  ...  ...  ...  ...   \n",
       "99995  0.0  0.0  0.0  0.0  0.0  0.0  0.0  0.0  0.0  0.0  ...  0.0  0.0  0.0   \n",
       "99996  0.0  0.0  0.0  0.0  0.0  0.0  0.0  0.0  0.0  0.0  ...  0.0  0.0  0.0   \n",
       "99997  0.0  0.0  0.0  0.0  0.0  0.0  0.0  0.0  0.0  0.0  ...  0.0  0.0  0.0   \n",
       "99998  0.0  0.0  0.0  0.0  0.0  0.0  0.0  0.0  0.0  0.0  ...  0.0  0.0  0.0   \n",
       "99999  0.0  0.0  0.0  0.0  0.0  0.0  0.0  0.0  0.0  0.0  ...  0.0  0.0  0.0   \n",
       "\n",
       "         ö    ÷    ú    ü    ý    þ    ›  \n",
       "0      0.0  0.0  0.0  0.0  0.0  0.0  0.0  \n",
       "1      0.0  0.0  0.0  0.0  0.0  0.0  0.0  \n",
       "2      0.0  0.0  0.0  0.0  0.0  0.0  0.0  \n",
       "3      0.0  0.0  0.0  0.0  0.0  0.0  0.0  \n",
       "4      0.0  0.0  0.0  0.0  0.0  0.0  0.0  \n",
       "...    ...  ...  ...  ...  ...  ...  ...  \n",
       "99995  0.0  0.0  0.0  0.0  0.0  0.0  0.0  \n",
       "99996  0.0  0.0  0.0  0.0  0.0  0.0  0.0  \n",
       "99997  0.0  0.0  0.0  0.0  0.0  0.0  0.0  \n",
       "99998  0.0  0.0  0.0  0.0  0.0  0.0  0.0  \n",
       "99999  0.0  0.0  0.0  0.0  0.0  0.0  0.0  \n",
       "\n",
       "[100000 rows x 99 columns]"
      ]
     },
     "execution_count": 69,
     "metadata": {},
     "output_type": "execute_result"
    }
   ],
   "source": [
    "df2\n"
   ]
  },
  {
   "cell_type": "markdown",
   "metadata": {},
   "source": [
    "# Applying Machine Learning Algorithm (Logistic Regression)\n"
   ]
  },
  {
   "cell_type": "code",
   "execution_count": 74,
   "metadata": {},
   "outputs": [],
   "source": [
    "df2[\"length\"] = dataframe[\"length\"]"
   ]
  },
  {
   "cell_type": "code",
   "execution_count": 72,
   "metadata": {},
   "outputs": [
    {
     "data": {
      "text/plain": [
       "Index(['password', 'strength', 'length', 'LowerCase Freq', 'UpperCase Freq',\n",
       "       'Numeric Freq', 'Special Freq'],\n",
       "      dtype='object')"
      ]
     },
     "execution_count": 72,
     "metadata": {},
     "output_type": "execute_result"
    }
   ],
   "source": [
    "dataframe.columns"
   ]
  },
  {
   "cell_type": "code",
   "execution_count": 76,
   "metadata": {},
   "outputs": [],
   "source": [
    "df2['LowerCase Freq'] = dataframe['LowerCase Freq']"
   ]
  },
  {
   "cell_type": "code",
   "execution_count": 77,
   "metadata": {},
   "outputs": [
    {
     "data": {
      "text/html": [
       "<div>\n",
       "<style scoped>\n",
       "    .dataframe tbody tr th:only-of-type {\n",
       "        vertical-align: middle;\n",
       "    }\n",
       "\n",
       "    .dataframe tbody tr th {\n",
       "        vertical-align: top;\n",
       "    }\n",
       "\n",
       "    .dataframe thead th {\n",
       "        text-align: right;\n",
       "    }\n",
       "</style>\n",
       "<table border=\"1\" class=\"dataframe\">\n",
       "  <thead>\n",
       "    <tr style=\"text-align: right;\">\n",
       "      <th></th>\n",
       "      <th>\u0004</th>\n",
       "      <th>\u0006</th>\n",
       "      <th>\b</th>\n",
       "      <th>\u000e</th>\n",
       "      <th>\u0010</th>\n",
       "      <th>\u0011</th>\n",
       "      <th>\u0017</th>\n",
       "      <th></th>\n",
       "      <th>!</th>\n",
       "      <th>#</th>\n",
       "      <th>...</th>\n",
       "      <th>õ</th>\n",
       "      <th>ö</th>\n",
       "      <th>÷</th>\n",
       "      <th>ú</th>\n",
       "      <th>ü</th>\n",
       "      <th>ý</th>\n",
       "      <th>þ</th>\n",
       "      <th>›</th>\n",
       "      <th>length</th>\n",
       "      <th>LowerCase Freq</th>\n",
       "    </tr>\n",
       "  </thead>\n",
       "  <tbody>\n",
       "    <tr>\n",
       "      <th>0</th>\n",
       "      <td>0.0</td>\n",
       "      <td>0.0</td>\n",
       "      <td>0.0</td>\n",
       "      <td>0.0</td>\n",
       "      <td>0.0</td>\n",
       "      <td>0.0</td>\n",
       "      <td>0.0</td>\n",
       "      <td>0.0</td>\n",
       "      <td>0.0</td>\n",
       "      <td>0.0</td>\n",
       "      <td>...</td>\n",
       "      <td>0.0</td>\n",
       "      <td>0.0</td>\n",
       "      <td>0.0</td>\n",
       "      <td>0.0</td>\n",
       "      <td>0.0</td>\n",
       "      <td>0.0</td>\n",
       "      <td>0.0</td>\n",
       "      <td>0.0</td>\n",
       "      <td>9</td>\n",
       "      <td>0.333</td>\n",
       "    </tr>\n",
       "    <tr>\n",
       "      <th>1</th>\n",
       "      <td>0.0</td>\n",
       "      <td>0.0</td>\n",
       "      <td>0.0</td>\n",
       "      <td>0.0</td>\n",
       "      <td>0.0</td>\n",
       "      <td>0.0</td>\n",
       "      <td>0.0</td>\n",
       "      <td>0.0</td>\n",
       "      <td>0.0</td>\n",
       "      <td>0.0</td>\n",
       "      <td>...</td>\n",
       "      <td>0.0</td>\n",
       "      <td>0.0</td>\n",
       "      <td>0.0</td>\n",
       "      <td>0.0</td>\n",
       "      <td>0.0</td>\n",
       "      <td>0.0</td>\n",
       "      <td>0.0</td>\n",
       "      <td>0.0</td>\n",
       "      <td>12</td>\n",
       "      <td>0.417</td>\n",
       "    </tr>\n",
       "    <tr>\n",
       "      <th>2</th>\n",
       "      <td>0.0</td>\n",
       "      <td>0.0</td>\n",
       "      <td>0.0</td>\n",
       "      <td>0.0</td>\n",
       "      <td>0.0</td>\n",
       "      <td>0.0</td>\n",
       "      <td>0.0</td>\n",
       "      <td>0.0</td>\n",
       "      <td>0.0</td>\n",
       "      <td>0.0</td>\n",
       "      <td>...</td>\n",
       "      <td>0.0</td>\n",
       "      <td>0.0</td>\n",
       "      <td>0.0</td>\n",
       "      <td>0.0</td>\n",
       "      <td>0.0</td>\n",
       "      <td>0.0</td>\n",
       "      <td>0.0</td>\n",
       "      <td>0.0</td>\n",
       "      <td>9</td>\n",
       "      <td>0.778</td>\n",
       "    </tr>\n",
       "    <tr>\n",
       "      <th>3</th>\n",
       "      <td>0.0</td>\n",
       "      <td>0.0</td>\n",
       "      <td>0.0</td>\n",
       "      <td>0.0</td>\n",
       "      <td>0.0</td>\n",
       "      <td>0.0</td>\n",
       "      <td>0.0</td>\n",
       "      <td>0.0</td>\n",
       "      <td>0.0</td>\n",
       "      <td>0.0</td>\n",
       "      <td>...</td>\n",
       "      <td>0.0</td>\n",
       "      <td>0.0</td>\n",
       "      <td>0.0</td>\n",
       "      <td>0.0</td>\n",
       "      <td>0.0</td>\n",
       "      <td>0.0</td>\n",
       "      <td>0.0</td>\n",
       "      <td>0.0</td>\n",
       "      <td>23</td>\n",
       "      <td>0.783</td>\n",
       "    </tr>\n",
       "    <tr>\n",
       "      <th>4</th>\n",
       "      <td>0.0</td>\n",
       "      <td>0.0</td>\n",
       "      <td>0.0</td>\n",
       "      <td>0.0</td>\n",
       "      <td>0.0</td>\n",
       "      <td>0.0</td>\n",
       "      <td>0.0</td>\n",
       "      <td>0.0</td>\n",
       "      <td>0.0</td>\n",
       "      <td>0.0</td>\n",
       "      <td>...</td>\n",
       "      <td>0.0</td>\n",
       "      <td>0.0</td>\n",
       "      <td>0.0</td>\n",
       "      <td>0.0</td>\n",
       "      <td>0.0</td>\n",
       "      <td>0.0</td>\n",
       "      <td>0.0</td>\n",
       "      <td>0.0</td>\n",
       "      <td>8</td>\n",
       "      <td>0.625</td>\n",
       "    </tr>\n",
       "  </tbody>\n",
       "</table>\n",
       "<p>5 rows × 101 columns</p>\n",
       "</div>"
      ],
      "text/plain": [
       "     \u0004    \u0006    \b    \u000e    \u0010    \u0011    \u0017         !    #  ...    õ    ö    ÷    ú  \\\n",
       "0  0.0  0.0  0.0  0.0  0.0  0.0  0.0  0.0  0.0  0.0  ...  0.0  0.0  0.0  0.0   \n",
       "1  0.0  0.0  0.0  0.0  0.0  0.0  0.0  0.0  0.0  0.0  ...  0.0  0.0  0.0  0.0   \n",
       "2  0.0  0.0  0.0  0.0  0.0  0.0  0.0  0.0  0.0  0.0  ...  0.0  0.0  0.0  0.0   \n",
       "3  0.0  0.0  0.0  0.0  0.0  0.0  0.0  0.0  0.0  0.0  ...  0.0  0.0  0.0  0.0   \n",
       "4  0.0  0.0  0.0  0.0  0.0  0.0  0.0  0.0  0.0  0.0  ...  0.0  0.0  0.0  0.0   \n",
       "\n",
       "     ü    ý    þ    ›  length  LowerCase Freq  \n",
       "0  0.0  0.0  0.0  0.0       9           0.333  \n",
       "1  0.0  0.0  0.0  0.0      12           0.417  \n",
       "2  0.0  0.0  0.0  0.0       9           0.778  \n",
       "3  0.0  0.0  0.0  0.0      23           0.783  \n",
       "4  0.0  0.0  0.0  0.0       8           0.625  \n",
       "\n",
       "[5 rows x 101 columns]"
      ]
     },
     "execution_count": 77,
     "metadata": {},
     "output_type": "execute_result"
    }
   ],
   "source": [
    "df2.head()"
   ]
  },
  {
   "cell_type": "code",
   "execution_count": 79,
   "metadata": {},
   "outputs": [],
   "source": [
    "y = dataframe[\"strength\"]"
   ]
  },
  {
   "cell_type": "code",
   "execution_count": 78,
   "metadata": {},
   "outputs": [],
   "source": [
    "from sklearn.model_selection import train_test_split"
   ]
  },
  {
   "cell_type": "code",
   "execution_count": 80,
   "metadata": {},
   "outputs": [],
   "source": [
    "X_train, X_test, Y_train, Y_test = train_test_split(df2, y,test_size=0.2, random_state=42 )"
   ]
  },
  {
   "cell_type": "code",
   "execution_count": 81,
   "metadata": {},
   "outputs": [],
   "source": [
    "from sklearn.linear_model import LogisticRegression"
   ]
  },
  {
   "cell_type": "code",
   "execution_count": 82,
   "metadata": {},
   "outputs": [],
   "source": [
    "Logistic_reg_model = LogisticRegression(multi_class = \"multinomial\")"
   ]
  },
  {
   "cell_type": "code",
   "execution_count": 84,
   "metadata": {},
   "outputs": [
    {
     "data": {
      "text/plain": [
       "LogisticRegression(multi_class='multinomial')"
      ]
     },
     "execution_count": 84,
     "metadata": {},
     "output_type": "execute_result"
    }
   ],
   "source": [
    "Logistic_reg_model.fit(X_train, Y_train)"
   ]
  },
  {
   "cell_type": "code",
   "execution_count": 85,
   "metadata": {},
   "outputs": [],
   "source": [
    "y_pred = Logistic_reg_model.predict(X_test)"
   ]
  },
  {
   "cell_type": "code",
   "execution_count": 88,
   "metadata": {},
   "outputs": [],
   "source": [
    "from collections import Counter"
   ]
  },
  {
   "cell_type": "markdown",
   "metadata": {},
   "source": [
    "Counter(y_pred)"
   ]
  },
  {
   "cell_type": "markdown",
   "metadata": {},
   "source": [
    "# Automation (Predicting User Input)"
   ]
  },
  {
   "cell_type": "code",
   "execution_count": 108,
   "metadata": {},
   "outputs": [],
   "source": [
    "def predict():\n",
    "    password = input(\"Enter a password : \")\n",
    "    sample_array = np.array([password])\n",
    "    sample_matrix = vectorizer.transform(sample_array)\n",
    "    \n",
    "    length_pass = len(password)\n",
    "    length_normalised_lowercase = len([char for char in password if char.islower()])/len(password)\n",
    "    \n",
    "    new_matrix2 = np.append(sample_matrix.toarray() , (length_pass , length_normalised_lowercase)).reshape(1,101)\n",
    "    result = Logistic_reg_model.predict(new_matrix2)\n",
    "    \n",
    "    if result == 0 :\n",
    "        return \"Password is weak\"\n",
    "    elif result == 1 :\n",
    "        return \"Password is normal\"\n",
    "    else:\n",
    "        return \"password is strong\""
   ]
  },
  {
   "cell_type": "code",
   "execution_count": 109,
   "metadata": {},
   "outputs": [
    {
     "name": "stdout",
     "output_type": "stream",
     "text": [
      "Enter a password : dfkahsdlghals\n"
     ]
    },
    {
     "data": {
      "text/plain": [
       "'Password is normal'"
      ]
     },
     "execution_count": 109,
     "metadata": {},
     "output_type": "execute_result"
    }
   ],
   "source": [
    "predict()"
   ]
  },
  {
   "cell_type": "markdown",
   "metadata": {},
   "source": [
    "# Model Performance"
   ]
  },
  {
   "cell_type": "code",
   "execution_count": 112,
   "metadata": {},
   "outputs": [],
   "source": [
    "from sklearn.metrics import confusion_matrix ,  accuracy_score , classification_report"
   ]
  },
  {
   "cell_type": "code",
   "execution_count": 113,
   "metadata": {},
   "outputs": [
    {
     "data": {
      "text/plain": [
       "0.79285"
      ]
     },
     "execution_count": 113,
     "metadata": {},
     "output_type": "execute_result"
    }
   ],
   "source": [
    "accuracy_score(Y_test , y_pred)"
   ]
  },
  {
   "cell_type": "code",
   "execution_count": 114,
   "metadata": {},
   "outputs": [
    {
     "data": {
      "text/plain": [
       "array([[  495,  2216,     5],\n",
       "       [  405, 14041,   344],\n",
       "       [   85,  1088,  1321]], dtype=int64)"
      ]
     },
     "execution_count": 114,
     "metadata": {},
     "output_type": "execute_result"
    }
   ],
   "source": [
    "confusion_matrix(Y_test , y_pred)"
   ]
  },
  {
   "cell_type": "code",
   "execution_count": 116,
   "metadata": {},
   "outputs": [
    {
     "name": "stdout",
     "output_type": "stream",
     "text": [
      "              precision    recall  f1-score   support\n",
      "\n",
      "           0       0.50      0.18      0.27      2716\n",
      "           1       0.81      0.95      0.87     14790\n",
      "           2       0.79      0.53      0.63      2494\n",
      "\n",
      "    accuracy                           0.79     20000\n",
      "   macro avg       0.70      0.55      0.59     20000\n",
      "weighted avg       0.77      0.79      0.76     20000\n",
      "\n"
     ]
    }
   ],
   "source": [
    "print(classification_report(Y_test , y_pred))"
   ]
  },
  {
   "cell_type": "markdown",
   "metadata": {},
   "source": [
    "*   Overall Accuracy:\n",
    "\n",
    "The model achieved an accuracy score of approximately 79.3%. This means that about 79% of the predictions on the test set are correct.\n",
    "While this is a good accuracy score, accuracy alone may not be a complete measure, especially when classes are imbalanced.\n",
    "*  Class-wise Performance (Precision, Recall, F1-score):\n",
    "\n",
    "Class 0 (Lowest Strength)\n",
    "\n",
    "Precision: 0.50, indicating that of all predictions made as \"0\" (low strength), only 50% were actually low strength.\n",
    "Recall: 0.18, indicating that only 18% of all actual \"0\" class instances were correctly identified by the model.\n",
    "F1-score: 0.27, which is quite low, suggesting the model struggles to identify low-strength passwords.\n",
    "\n",
    "\n",
    "Class 1 (Medium Strength):\n",
    "\n",
    "Precision: 0.81, which is reasonably high.\n",
    "Recall: 0.95, meaning the model captures most of the true \"1\" instances.\n",
    "F1-score: 0.87, showing a strong performance in identifying medium-strength passwords.\n",
    "\n",
    "\n",
    "Class 2 (High Strength):\n",
    "\n",
    "Precision: 0.79, showing that most high-strength predictions are accurate.\n",
    "Recall: 0.53, indicating that the model correctly identifies only 53% of actual \"2\" instances.\n",
    "F1-score: 0.63, suggesting that the model performs moderately well in identifying high-strength passwords but has room for improvement.\n",
    "*   Class Imbalance:\n",
    "\n",
    "The largest class is \"1\" (medium strength), while classes \"0\" and \"2\" are much smaller.\n",
    "The model seems biased towards the majority class (class 1), as seen by its high recall and precision for class 1.\n",
    "This imbalance might cause the model to favor predicting medium strength over low or high strength, especially if it helps achieve a higher accuracy.\n",
    "*   Confusion Matrix Insights:\n",
    "\n",
    "Class 0 Misclassification: The model struggles with class 0, often misclassifying it as class 1 (with 2,216 instances of misclassification).\n",
    "Class 2 Misclassification: Many high-strength passwords (class 2) are also misclassified as class 1, with 1,088 instances in this category.\n",
    "*   Macro and Weighted Averages:\n",
    "\n",
    "The macro average F1-score is lower (0.59) because it equally averages performance across all classes, showing that the model doesn’t perform equally well on each class.\n",
    "The weighted average F1-score is higher (0.76) due to the high performance in class 1, which dominates the dataset."
   ]
  },
  {
   "cell_type": "code",
   "execution_count": null,
   "metadata": {},
   "outputs": [],
   "source": []
  }
 ],
 "metadata": {
  "colab": {
   "provenance": []
  },
  "kernelspec": {
   "display_name": "Python 3 (ipykernel)",
   "language": "python",
   "name": "python3"
  },
  "language_info": {
   "codemirror_mode": {
    "name": "ipython",
    "version": 3
   },
   "file_extension": ".py",
   "mimetype": "text/x-python",
   "name": "python",
   "nbconvert_exporter": "python",
   "pygments_lexer": "ipython3",
   "version": "3.9.13"
  }
 },
 "nbformat": 4,
 "nbformat_minor": 1
}
